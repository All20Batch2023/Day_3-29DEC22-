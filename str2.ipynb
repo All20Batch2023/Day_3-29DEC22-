{
 "cells": [
  {
   "cell_type": "markdown",
   "id": "cec13b03",
   "metadata": {},
   "source": [
    "✅String Concatenation"
   ]
  },
  {
   "cell_type": "code",
   "execution_count": 1,
   "id": "2c34b800",
   "metadata": {},
   "outputs": [
    {
     "name": "stdout",
     "output_type": "stream",
     "text": [
      "Sanjeet Kumar\n",
      "SanjeetKumar\n",
      "Sanjeet@Kumar\n"
     ]
    }
   ],
   "source": [
    "#To concatenate, or combine, two strings you can use the + operator.\n",
    "fname='Sanjeet'\n",
    "lname='Kumar'\n",
    "name=fname+lname\n",
    "print(fname,lname)\n",
    "print(name)\n",
    "print(fname+'@'+lname)"
   ]
  },
  {
   "cell_type": "markdown",
   "id": "90f0d7b4",
   "metadata": {},
   "source": [
    "✅Casting"
   ]
  },
  {
   "cell_type": "code",
   "execution_count": 2,
   "id": "dc61b5ed",
   "metadata": {},
   "outputs": [
    {
     "name": "stdout",
     "output_type": "stream",
     "text": [
      "4\n",
      "4.5\n",
      "(4+5j)\n",
      "True\n",
      "<class 'str'>\n",
      "<class 'str'>\n",
      "<class 'str'>\n",
      "<class 'str'>\n"
     ]
    }
   ],
   "source": [
    "#other data type into str\n",
    "v1=str(4)\n",
    "v2=str(4.5)\n",
    "v3=str(4+5j)\n",
    "v4=str(True)\n",
    "print(v1)\n",
    "print(v2)\n",
    "print(v3)\n",
    "print(v4)\n",
    "print(type(v1))\n",
    "print(type(v2))\n",
    "print(type(v3))\n",
    "print(type(v4))"
   ]
  },
  {
   "cell_type": "code",
   "execution_count": 3,
   "id": "cf243efb",
   "metadata": {},
   "outputs": [
    {
     "name": "stdout",
     "output_type": "stream",
     "text": [
      "4\n",
      "<class 'int'>\n"
     ]
    }
   ],
   "source": [
    "#str to other data type\n",
    "v1=int('4')\n",
    "print(v1)\n",
    "print(type(v1))"
   ]
  },
  {
   "cell_type": "code",
   "execution_count": 4,
   "id": "b23540b9",
   "metadata": {},
   "outputs": [
    {
     "ename": "ValueError",
     "evalue": "invalid literal for int() with base 10: 'sanjeet'",
     "output_type": "error",
     "traceback": [
      "\u001b[0;31m---------------------------------------------------------------------------\u001b[0m",
      "\u001b[0;31mValueError\u001b[0m                                Traceback (most recent call last)",
      "Input \u001b[0;32mIn [4]\u001b[0m, in \u001b[0;36m<cell line: 2>\u001b[0;34m()\u001b[0m\n\u001b[1;32m      1\u001b[0m \u001b[38;5;66;03m#string contain num can be cast into int but we can't cast text into int\u001b[39;00m\n\u001b[0;32m----> 2\u001b[0m v2\u001b[38;5;241m=\u001b[39m\u001b[38;5;28;43mint\u001b[39;49m\u001b[43m(\u001b[49m\u001b[38;5;124;43m'\u001b[39;49m\u001b[38;5;124;43msanjeet\u001b[39;49m\u001b[38;5;124;43m'\u001b[39;49m\u001b[43m)\u001b[49m\n\u001b[1;32m      3\u001b[0m \u001b[38;5;28mprint\u001b[39m(v2)\n",
      "\u001b[0;31mValueError\u001b[0m: invalid literal for int() with base 10: 'sanjeet'"
     ]
    }
   ],
   "source": [
    "#string contain num can be cast into int but we can't cast text into int\n",
    "v2=int('sanjeet')\n",
    "print(v2)"
   ]
  },
  {
   "cell_type": "markdown",
   "id": "33dc723b",
   "metadata": {},
   "source": [
    "✅format Method"
   ]
  },
  {
   "cell_type": "code",
   "execution_count": 5,
   "id": "bd2dcca0",
   "metadata": {},
   "outputs": [
    {
     "ename": "TypeError",
     "evalue": "can only concatenate str (not \"int\") to str",
     "output_type": "error",
     "traceback": [
      "\u001b[0;31m---------------------------------------------------------------------------\u001b[0m",
      "\u001b[0;31mTypeError\u001b[0m                                 Traceback (most recent call last)",
      "Input \u001b[0;32mIn [5]\u001b[0m, in \u001b[0;36m<cell line: 3>\u001b[0;34m()\u001b[0m\n\u001b[1;32m      1\u001b[0m \u001b[38;5;66;03m# we can't concatenate str and int \u001b[39;00m\n\u001b[1;32m      2\u001b[0m age \u001b[38;5;241m=\u001b[39m \u001b[38;5;241m21\u001b[39m\n\u001b[0;32m----> 3\u001b[0m txt \u001b[38;5;241m=\u001b[39m \u001b[38;5;124;43m\"\u001b[39;49m\u001b[38;5;124;43mMy name is sanjeet, I am \u001b[39;49m\u001b[38;5;124;43m\"\u001b[39;49m\u001b[43m \u001b[49m\u001b[38;5;241;43m+\u001b[39;49m\u001b[43m \u001b[49m\u001b[43mage\u001b[49m\n\u001b[1;32m      4\u001b[0m \u001b[38;5;28mprint\u001b[39m(txt)\n",
      "\u001b[0;31mTypeError\u001b[0m: can only concatenate str (not \"int\") to str"
     ]
    }
   ],
   "source": [
    "# we can't concatenate str and int \n",
    "age = 21\n",
    "txt = \"My name is sanjeet, I am \" + age\n",
    "print(txt)"
   ]
  },
  {
   "cell_type": "code",
   "execution_count": 6,
   "id": "29af4f9f",
   "metadata": {},
   "outputs": [
    {
     "name": "stdout",
     "output_type": "stream",
     "text": [
      "My name is sanjeet, I am 21\n"
     ]
    }
   ],
   "source": [
    "#we can combine strings and numbers by using the format() method!\n",
    "age = 21\n",
    "txt = \"My name is sanjeet, I am {}\" #{} is a place holder\n",
    "print(txt.format(age))"
   ]
  },
  {
   "cell_type": "code",
   "execution_count": 7,
   "id": "ae390fb8",
   "metadata": {},
   "outputs": [
    {
     "name": "stdout",
     "output_type": "stream",
     "text": [
      "My name is sanjeet, I am 21\n"
     ]
    }
   ],
   "source": [
    "age=21\n",
    "print(\"My name is sanjeet, I am {}\".format(age))"
   ]
  },
  {
   "cell_type": "code",
   "execution_count": 8,
   "id": "73a85c20",
   "metadata": {},
   "outputs": [
    {
     "name": "stdout",
     "output_type": "stream",
     "text": [
      "I=100.0 of 1000 at 10 % for 1 year\n"
     ]
    }
   ],
   "source": [
    "r=10\n",
    "t=1\n",
    "p=1000\n",
    "i=(p*r*t)/100\n",
    "print('I={} of {} at {} % for {} year'.format(i,p,r,t))"
   ]
  },
  {
   "cell_type": "code",
   "execution_count": 9,
   "id": "0cc49ecc",
   "metadata": {},
   "outputs": [
    {
     "name": "stdout",
     "output_type": "stream",
     "text": [
      "I=100.0 of 1000 at 10 % for 1 year\n"
     ]
    }
   ],
   "source": [
    "r=10\n",
    "t=1\n",
    "p=1000\n",
    "i=(p*r*t)/100\n",
    "print('I={0} of {1} at {2} % for {3} year'.format(i,p,r,t))"
   ]
  },
  {
   "cell_type": "code",
   "execution_count": 10,
   "id": "c085c508",
   "metadata": {},
   "outputs": [
    {
     "name": "stdout",
     "output_type": "stream",
     "text": [
      "I=1000 of 10 at 1 % for 100.0 year\n"
     ]
    }
   ],
   "source": [
    "#when we put index value of variable, assign with correct index value for meangingful o/p\n",
    "r=10\n",
    "t=1\n",
    "p=1000\n",
    "i=(p*r*t)/100\n",
    "print('I={1} of {2} at {3} % for {0} year'.format(i,p,r,t))"
   ]
  },
  {
   "cell_type": "markdown",
   "id": "a7ef43ef",
   "metadata": {},
   "source": [
    "!! Thank You !!"
   ]
  },
  {
   "cell_type": "code",
   "execution_count": null,
   "id": "bbf61b5b",
   "metadata": {},
   "outputs": [],
   "source": []
  }
 ],
 "metadata": {
  "kernelspec": {
   "display_name": "Python 3 (ipykernel)",
   "language": "python",
   "name": "python3"
  },
  "language_info": {
   "codemirror_mode": {
    "name": "ipython",
    "version": 3
   },
   "file_extension": ".py",
   "mimetype": "text/x-python",
   "name": "python",
   "nbconvert_exporter": "python",
   "pygments_lexer": "ipython3",
   "version": "3.9.12"
  },
  "varInspector": {
   "cols": {
    "lenName": 16,
    "lenType": 16,
    "lenVar": 40
   },
   "kernels_config": {
    "python": {
     "delete_cmd_postfix": "",
     "delete_cmd_prefix": "del ",
     "library": "var_list.py",
     "varRefreshCmd": "print(var_dic_list())"
    },
    "r": {
     "delete_cmd_postfix": ") ",
     "delete_cmd_prefix": "rm(",
     "library": "var_list.r",
     "varRefreshCmd": "cat(var_dic_list()) "
    }
   },
   "types_to_exclude": [
    "module",
    "function",
    "builtin_function_or_method",
    "instance",
    "_Feature"
   ],
   "window_display": false
  }
 },
 "nbformat": 4,
 "nbformat_minor": 5
}
