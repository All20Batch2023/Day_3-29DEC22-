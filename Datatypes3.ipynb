{
 "cells": [
  {
   "cell_type": "markdown",
   "id": "1a3447cc",
   "metadata": {},
   "source": [
    "<div class=\"alert alert-info\"><font color=#FF0000>Python  (All 20 Batch 23)</font>\n",
    "<br> <font color=#FF0000>Date - 29th Dec</font>\n",
    "<br> <font color=#FF0000>3rd Day !!</font>\n",
    "</div>"
   ]
  },
  {
   "cell_type": "markdown",
   "id": "bf0bec59",
   "metadata": {},
   "source": [
    "✅**Str Type**"
   ]
  },
  {
   "cell_type": "markdown",
   "id": "657fa76d",
   "metadata": {},
   "source": [
    "Strings in python are surrounded by either single quotation marks, or double quotation marks."
   ]
  },
  {
   "cell_type": "code",
   "execution_count": 1,
   "id": "4aa1e06e",
   "metadata": {},
   "outputs": [],
   "source": [
    "#str or text data type\n",
    "#we use '',\"\""
   ]
  },
  {
   "cell_type": "code",
   "execution_count": 2,
   "id": "7479d755",
   "metadata": {},
   "outputs": [
    {
     "name": "stdout",
     "output_type": "stream",
     "text": [
      "sanjeet\n"
     ]
    }
   ],
   "source": [
    "print('sanjeet')"
   ]
  },
  {
   "cell_type": "code",
   "execution_count": 3,
   "id": "87dcbc04",
   "metadata": {},
   "outputs": [
    {
     "ename": "NameError",
     "evalue": "name 'sanjeet' is not defined",
     "output_type": "error",
     "traceback": [
      "\u001b[0;31m---------------------------------------------------------------------------\u001b[0m",
      "\u001b[0;31mNameError\u001b[0m                                 Traceback (most recent call last)",
      "Input \u001b[0;32mIn [3]\u001b[0m, in \u001b[0;36m<cell line: 3>\u001b[0;34m()\u001b[0m\n\u001b[1;32m      1\u001b[0m \u001b[38;5;66;03m#Here sanjeet is not treated as string because we don't put '',\"\".\u001b[39;00m\n\u001b[1;32m      2\u001b[0m \u001b[38;5;66;03m#its take as variable.\u001b[39;00m\n\u001b[0;32m----> 3\u001b[0m \u001b[38;5;28mprint\u001b[39m(\u001b[43msanjeet\u001b[49m)\n",
      "\u001b[0;31mNameError\u001b[0m: name 'sanjeet' is not defined"
     ]
    }
   ],
   "source": [
    "#Here sanjeet is not treated as string because we don't put '',\"\".\n",
    "#its take as variable.\n",
    "print(sanjeet)"
   ]
  },
  {
   "cell_type": "code",
   "execution_count": 4,
   "id": "14761a5f",
   "metadata": {},
   "outputs": [
    {
     "name": "stdout",
     "output_type": "stream",
     "text": [
      "Hello\n"
     ]
    }
   ],
   "source": [
    "print(\"Hello\")"
   ]
  },
  {
   "cell_type": "code",
   "execution_count": 5,
   "id": "27469a6a",
   "metadata": {},
   "outputs": [
    {
     "name": "stdout",
     "output_type": "stream",
     "text": [
      "<class 'str'>\n"
     ]
    }
   ],
   "source": [
    "print(type('hello'))"
   ]
  },
  {
   "cell_type": "code",
   "execution_count": 6,
   "id": "8a0c7083",
   "metadata": {},
   "outputs": [
    {
     "name": "stdout",
     "output_type": "stream",
     "text": [
      "9\n",
      "<class 'int'>\n"
     ]
    }
   ],
   "source": [
    "#Here sanjeet is not a str , its a variable and value of it is 9(int data type).\n",
    "#thats why data type of sanjeet is 9.\n",
    "sanjeet=9\n",
    "print(sanjeet)\n",
    "print(type(sanjeet)) "
   ]
  },
  {
   "cell_type": "code",
   "execution_count": 7,
   "id": "318551fc",
   "metadata": {},
   "outputs": [
    {
     "name": "stdout",
     "output_type": "stream",
     "text": [
      "sanjeet\n",
      "<class 'str'>\n"
     ]
    }
   ],
   "source": [
    "# Here literal of b is str data type.\n",
    "b='sanjeet'\n",
    "print(b)\n",
    "print(type(b))"
   ]
  },
  {
   "cell_type": "markdown",
   "id": "dba553dd",
   "metadata": {},
   "source": [
    "&#10148; Multi line Str"
   ]
  },
  {
   "cell_type": "code",
   "execution_count": 8,
   "id": "c5f6cedf",
   "metadata": {},
   "outputs": [
    {
     "ename": "SyntaxError",
     "evalue": "EOL while scanning string literal (3895215034.py, line 2)",
     "output_type": "error",
     "traceback": [
      "\u001b[0;36m  Input \u001b[0;32mIn [8]\u001b[0;36m\u001b[0m\n\u001b[0;31m    s='i\u001b[0m\n\u001b[0m        ^\u001b[0m\n\u001b[0;31mSyntaxError\u001b[0m\u001b[0;31m:\u001b[0m EOL while scanning string literal\n"
     ]
    }
   ],
   "source": [
    "# Try to introduce multi line str\n",
    "s='i\n",
    "am \n",
    "sanjeet'\n",
    "print(s)      #EOL - end of line\n",
    "             # literal --> value of varible"
   ]
  },
  {
   "cell_type": "code",
   "execution_count": 9,
   "id": "46f573fc",
   "metadata": {},
   "outputs": [
    {
     "name": "stdout",
     "output_type": "stream",
     "text": [
      "i \n",
      "am \n",
      "sanjeet\n",
      "\n"
     ]
    }
   ],
   "source": [
    "# Correct way to implement multi line str\n",
    "s='''i \n",
    "am \n",
    "sanjeet\n",
    "'''\n",
    "print(s)"
   ]
  },
  {
   "cell_type": "code",
   "execution_count": 10,
   "id": "8909bcc0",
   "metadata": {},
   "outputs": [
    {
     "name": "stdout",
     "output_type": "stream",
     "text": [
      "hello\n"
     ]
    }
   ],
   "source": [
    "s='hello'\n",
    "print(s)"
   ]
  },
  {
   "cell_type": "markdown",
   "id": "c9b63170",
   "metadata": {},
   "source": [
    "&#10148; Special Output\n"
   ]
  },
  {
   "cell_type": "code",
   "execution_count": 11,
   "id": "6134c102",
   "metadata": {},
   "outputs": [],
   "source": [
    "\n",
    "# looks o/p like *'hello'*"
   ]
  },
  {
   "cell_type": "code",
   "execution_count": 12,
   "id": "21caa470",
   "metadata": {},
   "outputs": [
    {
     "ename": "SyntaxError",
     "evalue": "invalid syntax (3472174427.py, line 1)",
     "output_type": "error",
     "traceback": [
      "\u001b[0;36m  Input \u001b[0;32mIn [12]\u001b[0;36m\u001b[0m\n\u001b[0;31m    s = ''hello''\u001b[0m\n\u001b[0m          ^\u001b[0m\n\u001b[0;31mSyntaxError\u001b[0m\u001b[0;31m:\u001b[0m invalid syntax\n"
     ]
    }
   ],
   "source": [
    "s = ''hello''\n",
    "print(s)"
   ]
  },
  {
   "cell_type": "code",
   "execution_count": 13,
   "id": "c7e7c810",
   "metadata": {},
   "outputs": [
    {
     "name": "stdout",
     "output_type": "stream",
     "text": [
      "'Hello'\n"
     ]
    }
   ],
   "source": [
    "#we have to follow this special Pattern \n",
    "s=\"'Hello'\"\n",
    "print(s)"
   ]
  },
  {
   "cell_type": "code",
   "execution_count": 14,
   "id": "00289796",
   "metadata": {},
   "outputs": [
    {
     "name": "stdout",
     "output_type": "stream",
     "text": [
      "\"Hello\"\n"
     ]
    }
   ],
   "source": [
    "# \"hello\"\n",
    "s= '\"Hello\"'\n",
    "print(s)"
   ]
  },
  {
   "cell_type": "markdown",
   "id": "7f009e43",
   "metadata": {},
   "source": [
    "-->> <font color=blue>*To insert characters that are illegal in a string, use an escape character*</font>\n",
    "</br>\n",
    "-->><font color=blue>*\\ followed by the character*</font>"
   ]
  },
  {
   "cell_type": "code",
   "execution_count": 15,
   "id": "e6289953",
   "metadata": {},
   "outputs": [
    {
     "ename": "SyntaxError",
     "evalue": "invalid syntax (3102976649.py, line 2)",
     "output_type": "error",
     "traceback": [
      "\u001b[0;36m  Input \u001b[0;32mIn [15]\u001b[0;36m\u001b[0m\n\u001b[0;31m    s = ''hello''\u001b[0m\n\u001b[0m          ^\u001b[0m\n\u001b[0;31mSyntaxError\u001b[0m\u001b[0;31m:\u001b[0m invalid syntax\n"
     ]
    }
   ],
   "source": [
    "# looks o/p like *'hello'*\n",
    "s = ''hello''\n",
    "print(c)"
   ]
  },
  {
   "cell_type": "code",
   "execution_count": 16,
   "id": "6ede82d2",
   "metadata": {},
   "outputs": [
    {
     "name": "stdout",
     "output_type": "stream",
     "text": [
      "'hello'\n"
     ]
    }
   ],
   "source": [
    "s = '\\'hello\\''\n",
    "print(s)"
   ]
  },
  {
   "cell_type": "code",
   "execution_count": 17,
   "id": "e056f368",
   "metadata": {},
   "outputs": [
    {
     "ename": "SyntaxError",
     "evalue": "invalid syntax (1398985868.py, line 1)",
     "output_type": "error",
     "traceback": [
      "\u001b[0;36m  Input \u001b[0;32mIn [17]\u001b[0;36m\u001b[0m\n\u001b[0;31m    looks o/p like *\\hello\\*\u001b[0m\n\u001b[0m          ^\u001b[0m\n\u001b[0;31mSyntaxError\u001b[0m\u001b[0;31m:\u001b[0m invalid syntax\n"
     ]
    }
   ],
   "source": [
    "looks o/p like *\\hello\\*\n",
    "s='\\hello\\'\n",
    "print(s)"
   ]
  },
  {
   "cell_type": "code",
   "execution_count": 18,
   "id": "defd9b47",
   "metadata": {},
   "outputs": [
    {
     "name": "stdout",
     "output_type": "stream",
     "text": [
      "\\hello\\\n"
     ]
    }
   ],
   "source": [
    "s = \"\\\\hello\\\\\"\n",
    "print(s)"
   ]
  },
  {
   "cell_type": "markdown",
   "id": "3b8314fb",
   "metadata": {},
   "source": [
    "-->><font color=blue> *special char or symbols data type are also string*</font>"
   ]
  },
  {
   "cell_type": "code",
   "execution_count": 19,
   "id": "732b84f8",
   "metadata": {},
   "outputs": [
    {
     "ename": "SyntaxError",
     "evalue": "invalid syntax (1716066837.py, line 1)",
     "output_type": "error",
     "traceback": [
      "\u001b[0;36m  Input \u001b[0;32mIn [19]\u001b[0;36m\u001b[0m\n\u001b[0;31m    print($)\u001b[0m\n\u001b[0m          ^\u001b[0m\n\u001b[0;31mSyntaxError\u001b[0m\u001b[0;31m:\u001b[0m invalid syntax\n"
     ]
    }
   ],
   "source": [
    "print($)"
   ]
  },
  {
   "cell_type": "code",
   "execution_count": 20,
   "id": "51a25486",
   "metadata": {},
   "outputs": [
    {
     "name": "stdout",
     "output_type": "stream",
     "text": [
      "=\n",
      "$\n",
      "<class 'str'>\n"
     ]
    }
   ],
   "source": [
    "print('=')\n",
    "print('$')\n",
    "print(type('$'))"
   ]
  },
  {
   "cell_type": "markdown",
   "id": "3c95666e",
   "metadata": {},
   "source": [
    "&#10148; Special String"
   ]
  },
  {
   "cell_type": "code",
   "execution_count": 21,
   "id": "a3249ed9",
   "metadata": {},
   "outputs": [
    {
     "name": "stdout",
     "output_type": "stream",
     "text": [
      "\\\n",
      "\n",
      "\n",
      "\t\n",
      "sanjeet \n",
      " kumar\n",
      "sanjeet \t kumar\n"
     ]
    }
   ],
   "source": [
    "#special string\n",
    "a='\\\\'\n",
    "print(a)\n",
    "c='\\n' # Here *\\n* treat as next line so No o/p\n",
    "print(c)\n",
    "d='\\t' # Here *\\t* treat as next tab so no o/p\n",
    "print(d)\n",
    "s= 'sanjeet \\n kumar' #kumar in next due to *\\n*\n",
    "print(s)\n",
    "r='sanjeet \\t kumar' #Space due to *\\t*\n",
    "print(r)"
   ]
  },
  {
   "cell_type": "code",
   "execution_count": 22,
   "id": "3baeeda4",
   "metadata": {},
   "outputs": [],
   "source": [
    "# looks o/p like *sanjeet \\n kumar*"
   ]
  },
  {
   "cell_type": "markdown",
   "id": "f605ff6d",
   "metadata": {},
   "source": [
    "&#10148;raw String"
   ]
  },
  {
   "cell_type": "code",
   "execution_count": 23,
   "id": "2bff01f1",
   "metadata": {},
   "outputs": [
    {
     "name": "stdout",
     "output_type": "stream",
     "text": [
      "sanjeet \\n kumar\n",
      "sanjeet \\\\ kumar\n"
     ]
    }
   ],
   "source": [
    "#raw string\n",
    "#keeps regular expressions\n",
    "s=r'sanjeet \\n kumar'\n",
    "print(s)\n",
    "d=r'sanjeet \\\\ kumar'\n",
    "print(d)"
   ]
  },
  {
   "cell_type": "markdown",
   "id": "af0444a5",
   "metadata": {},
   "source": [
    "&#10148;unicode string"
   ]
  },
  {
   "cell_type": "code",
   "execution_count": 24,
   "id": "c4789663",
   "metadata": {},
   "outputs": [
    {
     "name": "stdout",
     "output_type": "stream",
     "text": [
      "😖\n",
      "😆\n"
     ]
    }
   ],
   "source": [
    "#unicode string\n",
    "e=u'\\U0001f616'\n",
    "print(e)\n",
    "print(u'\\U0001f606')"
   ]
  },
  {
   "cell_type": "markdown",
   "id": "92b590e2",
   "metadata": {},
   "source": [
    "✅operations in string"
   ]
  },
  {
   "cell_type": "code",
   "execution_count": 25,
   "id": "a548a59d",
   "metadata": {},
   "outputs": [
    {
     "name": "stdout",
     "output_type": "stream",
     "text": [
      "9\n"
     ]
    }
   ],
   "source": [
    "sp='ghfgfjhej'\n",
    "#length of string\n",
    "print(len(sp))"
   ]
  },
  {
   "cell_type": "code",
   "execution_count": 26,
   "id": "4ca0502d",
   "metadata": {},
   "outputs": [
    {
     "name": "stdout",
     "output_type": "stream",
     "text": [
      "False\n",
      "False\n",
      "True\n"
     ]
    }
   ],
   "source": [
    "# *is* is used identity\n",
    "a='Sanjeet'\n",
    "b='sanjeet'\n",
    "print(a==b)\n",
    "print(a is b) # to check a is b \n",
    "print(a is not b)"
   ]
  },
  {
   "cell_type": "code",
   "execution_count": 27,
   "id": "82e2411b",
   "metadata": {},
   "outputs": [
    {
     "name": "stdout",
     "output_type": "stream",
     "text": [
      "True\n",
      "False\n"
     ]
    }
   ],
   "source": [
    "# *in* is used to check Member of str\n",
    "d='hello world'\n",
    "print('world' in d)\n",
    "print('sanjeet' in d)"
   ]
  },
  {
   "cell_type": "markdown",
   "id": "6c357ee4",
   "metadata": {},
   "source": [
    "✅**slicing**"
   ]
  },
  {
   "cell_type": "code",
   "execution_count": 28,
   "id": "48fc05b4",
   "metadata": {},
   "outputs": [
    {
     "name": "stdout",
     "output_type": "stream",
     "text": [
      "s\n",
      "t\n",
      "e\n",
      "sanje\n",
      "sanjeet\n",
      "umar\n",
      "jeet\n",
      "\n",
      "jeetkum\n",
      "ku\n",
      "\n"
     ]
    }
   ],
   "source": [
    "#->>01234567891011 (left ->> right)\n",
    "a='sanjeetkumar'\n",
    "#-12-11-10-9-8-7-6-5-4-3-2-1 <<- (left <<- right)\n",
    "print(a[0])   #print 0  index element\n",
    "print(a[-6])  #print -6 index element\n",
    "print(a[5])   #print 5  index element\n",
    "print(a[:5])  #print 0 to 4 , 5 excluded\n",
    "print(a[:-5]) #print 0 t0 -6 , -5 excluded\n",
    "print(a[-4:]) #print -4 to last \n",
    "print(a[3:7]) #print 3 to 6 , ecluded 7\n",
    "print(a[3:2]) #No output, index 2 element is left of index 3 element\n",
    "print(a[3:-2])#Print 3 to -3 , excluded -2\n",
    "print(a[-5:-3])#print -5 to -4 , excluded -3\n",
    "print(a[-5:-9])#No output, index -9 element is left of index -5 element"
   ]
  },
  {
   "cell_type": "code",
   "execution_count": 29,
   "id": "f8f32dc4",
   "metadata": {},
   "outputs": [
    {
     "name": "stdout",
     "output_type": "stream",
     "text": [
      "san kuma mish\n"
     ]
    }
   ],
   "source": [
    "s='sanju kumar mishra'\n",
    "print(s[:3],s[6:10],s[12:-2])"
   ]
  },
  {
   "cell_type": "markdown",
   "id": "0f658d48",
   "metadata": {},
   "source": [
    "!!Thank You!!"
   ]
  },
  {
   "cell_type": "code",
   "execution_count": null,
   "id": "0bb233ab",
   "metadata": {},
   "outputs": [],
   "source": []
  },
  {
   "cell_type": "code",
   "execution_count": null,
   "id": "317417f2",
   "metadata": {},
   "outputs": [],
   "source": []
  }
 ],
 "metadata": {
  "kernelspec": {
   "display_name": "Python 3 (ipykernel)",
   "language": "python",
   "name": "python3"
  },
  "language_info": {
   "codemirror_mode": {
    "name": "ipython",
    "version": 3
   },
   "file_extension": ".py",
   "mimetype": "text/x-python",
   "name": "python",
   "nbconvert_exporter": "python",
   "pygments_lexer": "ipython3",
   "version": "3.9.12"
  },
  "varInspector": {
   "cols": {
    "lenName": 16,
    "lenType": 16,
    "lenVar": 40
   },
   "kernels_config": {
    "python": {
     "delete_cmd_postfix": "",
     "delete_cmd_prefix": "del ",
     "library": "var_list.py",
     "varRefreshCmd": "print(var_dic_list())"
    },
    "r": {
     "delete_cmd_postfix": ") ",
     "delete_cmd_prefix": "rm(",
     "library": "var_list.r",
     "varRefreshCmd": "cat(var_dic_list()) "
    }
   },
   "types_to_exclude": [
    "module",
    "function",
    "builtin_function_or_method",
    "instance",
    "_Feature"
   ],
   "window_display": false
  }
 },
 "nbformat": 4,
 "nbformat_minor": 5
}
