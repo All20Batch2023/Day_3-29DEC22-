{
 "cells": [
  {
   "cell_type": "markdown",
   "id": "887801f5",
   "metadata": {},
   "source": [
    "✅strings Methods"
   ]
  },
  {
   "cell_type": "code",
   "execution_count": 1,
   "id": "5be8059b",
   "metadata": {},
   "outputs": [],
   "source": [
    "string='Hello'"
   ]
  },
  {
   "cell_type": "code",
   "execution_count": 2,
   "id": "13c1696d",
   "metadata": {},
   "outputs": [
    {
     "name": "stdout",
     "output_type": "stream",
     "text": [
      "<built-in method capitalize of str object at 0x7fbe6881fdb0>\n"
     ]
    }
   ],
   "source": [
    "print(string.capitalize)"
   ]
  },
  {
   "cell_type": "markdown",
   "id": "120bd39c",
   "metadata": {},
   "source": [
    "&#10148;capitalize"
   ]
  },
  {
   "cell_type": "code",
   "execution_count": 3,
   "id": "14b589d4",
   "metadata": {},
   "outputs": [],
   "source": [
    "string1='iamsanjeet'\n",
    "string2='IamSanjeet'\n",
    "string3='SANJEET'"
   ]
  },
  {
   "cell_type": "code",
   "execution_count": 4,
   "id": "40c42667",
   "metadata": {},
   "outputs": [
    {
     "name": "stdout",
     "output_type": "stream",
     "text": [
      "Iamsanjeet\n",
      "Iamsanjeet\n",
      "Sanjeet\n"
     ]
    }
   ],
   "source": [
    "#Converts the first character to upper case\n",
    "print(string1.capitalize())\n",
    "print(string2.capitalize())\n",
    "print(string3.capitalize())"
   ]
  },
  {
   "cell_type": "markdown",
   "id": "f92ef4c8",
   "metadata": {},
   "source": [
    "&#10148;casefold"
   ]
  },
  {
   "cell_type": "code",
   "execution_count": 5,
   "id": "9eea23f0",
   "metadata": {},
   "outputs": [],
   "source": [
    "string1='iamsanjeet'\n",
    "string2='IamSanjeet'\n",
    "string3='SANJEET'"
   ]
  },
  {
   "cell_type": "code",
   "execution_count": 6,
   "id": "3e8da87c",
   "metadata": {},
   "outputs": [
    {
     "name": "stdout",
     "output_type": "stream",
     "text": [
      "iamsanjeet\n",
      "iamsanjeet\n",
      "sanjeet\n"
     ]
    }
   ],
   "source": [
    "#Converts string into lower case\n",
    "print(string1.casefold())\n",
    "print(string2.casefold())\n",
    "print(string3.casefold())"
   ]
  },
  {
   "cell_type": "markdown",
   "id": "62dd5a01",
   "metadata": {},
   "source": [
    "&#10148;center"
   ]
  },
  {
   "cell_type": "code",
   "execution_count": 7,
   "id": "f89b7f1f",
   "metadata": {},
   "outputs": [],
   "source": [
    "string1='iamsanjeet'\n",
    "string2='IamSanjeet'\n",
    "string3='SANJEET'"
   ]
  },
  {
   "cell_type": "code",
   "execution_count": 8,
   "id": "53d77b2d",
   "metadata": {},
   "outputs": [
    {
     "name": "stdout",
     "output_type": "stream",
     "text": [
      "YYYYYYYYYYiamsanjeetYYYYYYYYYY\n",
      "NNNNNIamSanjeetNNNNN\n",
      "SANJEET\n",
      "ggSANJEETggg\n"
     ]
    }
   ],
   "source": [
    "#Returns a centered string\n",
    "print(string1.center(30,'Y'))\n",
    "print(string2.center(20,'N'))\n",
    "print(string3.center(6,'g'))\n",
    "print(string3.center(12,'g'))"
   ]
  },
  {
   "cell_type": "markdown",
   "id": "8384e758",
   "metadata": {},
   "source": [
    "&#10148;count"
   ]
  },
  {
   "cell_type": "code",
   "execution_count": 9,
   "id": "83b6948b",
   "metadata": {},
   "outputs": [],
   "source": [
    "string1='iamsanjeet'\n",
    "string2='IamSanjeet'\n",
    "string3='SANJEET'"
   ]
  },
  {
   "cell_type": "code",
   "execution_count": 10,
   "id": "99b1722d",
   "metadata": {},
   "outputs": [
    {
     "name": "stdout",
     "output_type": "stream",
     "text": [
      "2\n",
      "2\n",
      "0\n"
     ]
    }
   ],
   "source": [
    "#Returns the number of times a specified char occurs in a string\n",
    "print(string1.count('a'))\n",
    "print(string2.count('e'))\n",
    "print(string3.count('o'))"
   ]
  },
  {
   "cell_type": "markdown",
   "id": "98a9773a",
   "metadata": {},
   "source": [
    "&#10148;encode"
   ]
  },
  {
   "cell_type": "code",
   "execution_count": 11,
   "id": "3a854c4d",
   "metadata": {},
   "outputs": [],
   "source": [
    "string1='iamsånjeetø'"
   ]
  },
  {
   "cell_type": "code",
   "execution_count": 12,
   "id": "68ec12cf",
   "metadata": {},
   "outputs": [
    {
     "name": "stdout",
     "output_type": "stream",
     "text": [
      "b'iams\\xc3\\xa5njeet\\xc3\\xb8'\n"
     ]
    }
   ],
   "source": [
    "#encode(Default is UTF-8)\n",
    "print(string1.encode())\n",
    "#UTf-8 of *ø* is \\xc3\\xb8"
   ]
  },
  {
   "cell_type": "markdown",
   "id": "cd1218dc",
   "metadata": {},
   "source": [
    "&#10148;endswith"
   ]
  },
  {
   "cell_type": "code",
   "execution_count": 13,
   "id": "ca549ec4",
   "metadata": {},
   "outputs": [],
   "source": [
    "string1='iamsanjeet'\n",
    "string2='IamSanjeet'"
   ]
  },
  {
   "cell_type": "code",
   "execution_count": 14,
   "id": "dc9917dd",
   "metadata": {},
   "outputs": [
    {
     "name": "stdout",
     "output_type": "stream",
     "text": [
      "False\n",
      "True\n"
     ]
    }
   ],
   "source": [
    "#Returns true if the string ends with the specified value\n",
    "print(string1.endswith('k'))\n",
    "print(string2.endswith('t'))"
   ]
  },
  {
   "cell_type": "markdown",
   "id": "6d75241b",
   "metadata": {},
   "source": [
    "&#10148;expandtabs"
   ]
  },
  {
   "cell_type": "code",
   "execution_count": 15,
   "id": "1c1313ab",
   "metadata": {},
   "outputs": [],
   "source": [
    "string1='i\\tam\\tsanjeet'"
   ]
  },
  {
   "cell_type": "code",
   "execution_count": 16,
   "id": "5cf5ac2f",
   "metadata": {},
   "outputs": [
    {
     "name": "stdout",
     "output_type": "stream",
     "text": [
      "i       am      sanjeet\n",
      "i  am sanjeet\n"
     ]
    }
   ],
   "source": [
    "#Set the tab size \n",
    "print(string1.expandtabs(8))\n",
    "print(string1.expandtabs(3))"
   ]
  },
  {
   "cell_type": "markdown",
   "id": "16715d3e",
   "metadata": {},
   "source": [
    "&#10148;find"
   ]
  },
  {
   "cell_type": "code",
   "execution_count": 17,
   "id": "bcf1b8e9",
   "metadata": {},
   "outputs": [],
   "source": [
    "string1='iamsanjeet'"
   ]
  },
  {
   "cell_type": "code",
   "execution_count": 18,
   "id": "37d0e4f5",
   "metadata": {},
   "outputs": [
    {
     "name": "stdout",
     "output_type": "stream",
     "text": [
      "-1\n",
      "0\n",
      "1\n"
     ]
    }
   ],
   "source": [
    "#return index value\n",
    "print(string1.find('w')) #return -1 if element not found\n",
    "print(string1.find('i')) #return  0 for first element\n",
    "print(string1.find('a')) #return  index of first occur element in case to multiple similar chars"
   ]
  },
  {
   "cell_type": "markdown",
   "id": "516b7092",
   "metadata": {},
   "source": [
    "#  **Important**\n",
    "*format*</br>\n",
    "*format_map*"
   ]
  },
  {
   "cell_type": "markdown",
   "id": "57943b25",
   "metadata": {},
   "source": [
    "&#10148;index"
   ]
  },
  {
   "cell_type": "code",
   "execution_count": 19,
   "id": "ad84cf6a",
   "metadata": {},
   "outputs": [],
   "source": [
    "string1='iamsanjeet'"
   ]
  },
  {
   "cell_type": "code",
   "execution_count": 20,
   "id": "5e7ee989",
   "metadata": {},
   "outputs": [
    {
     "name": "stdout",
     "output_type": "stream",
     "text": [
      "1\n"
     ]
    }
   ],
   "source": [
    "#return index value\n",
    "print(string1.index('a'))"
   ]
  },
  {
   "cell_type": "code",
   "execution_count": 21,
   "id": "d508be2c",
   "metadata": {},
   "outputs": [
    {
     "ename": "ValueError",
     "evalue": "substring not found",
     "output_type": "error",
     "traceback": [
      "\u001b[0;31m---------------------------------------------------------------------------\u001b[0m",
      "\u001b[0;31mValueError\u001b[0m                                Traceback (most recent call last)",
      "Input \u001b[0;32mIn [21]\u001b[0m, in \u001b[0;36m<cell line: 2>\u001b[0;34m()\u001b[0m\n\u001b[1;32m      1\u001b[0m \u001b[38;5;66;03m#find() method returns -1, but the index() method will raise an exception\u001b[39;00m\n\u001b[0;32m----> 2\u001b[0m \u001b[38;5;28mprint\u001b[39m(\u001b[43mstring1\u001b[49m\u001b[38;5;241;43m.\u001b[39;49m\u001b[43mindex\u001b[49m\u001b[43m(\u001b[49m\u001b[38;5;124;43m'\u001b[39;49m\u001b[38;5;124;43mw\u001b[39;49m\u001b[38;5;124;43m'\u001b[39;49m\u001b[43m)\u001b[49m)\n",
      "\u001b[0;31mValueError\u001b[0m: substring not found"
     ]
    }
   ],
   "source": [
    "#find() method returns -1, but the index() method will raise an exception\n",
    "print(string1.index('w'))"
   ]
  },
  {
   "cell_type": "markdown",
   "id": "ca0cb527",
   "metadata": {},
   "source": [
    "&#10148;isalnum"
   ]
  },
  {
   "cell_type": "code",
   "execution_count": 22,
   "id": "1499df56",
   "metadata": {},
   "outputs": [],
   "source": [
    "string1='iamsanjeet'\n",
    "string2='sanjeet75'\n",
    "string3='sanjeet_65'\n",
    "string4='sanjeet$45'"
   ]
  },
  {
   "cell_type": "code",
   "execution_count": 23,
   "id": "426016a7",
   "metadata": {},
   "outputs": [
    {
     "name": "stdout",
     "output_type": "stream",
     "text": [
      "True\n",
      "True\n",
      "False\n",
      "False\n"
     ]
    }
   ],
   "source": [
    "#True if all the characters are alpha-numeric\n",
    "#alpha-numeric means (a-z) and numbers (0-9)\n",
    "#non alpha-numeric means (space)!#%&? etc.\n",
    "print(string1.isalnum())\n",
    "print(string2.isalnum())\n",
    "print(string3.isalnum())\n",
    "print(string4.isalnum())"
   ]
  },
  {
   "cell_type": "markdown",
   "id": "7405568f",
   "metadata": {},
   "source": [
    "&#10148;isalpha"
   ]
  },
  {
   "cell_type": "code",
   "execution_count": 24,
   "id": "7214c8ee",
   "metadata": {},
   "outputs": [],
   "source": [
    "string1='iamsanjeet'\n",
    "string2='sanjeet75'\n",
    "string3='sanjeet_65'\n",
    "string4='sanjeet$45'"
   ]
  },
  {
   "cell_type": "code",
   "execution_count": 25,
   "id": "2dd481e6",
   "metadata": {},
   "outputs": [
    {
     "name": "stdout",
     "output_type": "stream",
     "text": [
      "True\n",
      "False\n",
      "False\n",
      "False\n"
     ]
    }
   ],
   "source": [
    "#True if all characters in the string are in the alphabet\n",
    "print(string1.isalpha())\n",
    "print(string2.isalpha())\n",
    "print(string3.isalpha())\n",
    "print(string4.isalpha())"
   ]
  },
  {
   "cell_type": "markdown",
   "id": "4958534c",
   "metadata": {},
   "source": [
    "&#10148;isascii"
   ]
  },
  {
   "cell_type": "code",
   "execution_count": 26,
   "id": "493be902",
   "metadata": {},
   "outputs": [],
   "source": [
    "string1='iamsanjeet'\n",
    "string2='i\\tam\\tsanjeet'\n",
    "string3='iamsånjeetø'\n",
    "string4='sanjeet_89'"
   ]
  },
  {
   "cell_type": "code",
   "execution_count": 27,
   "id": "5b54fcc9",
   "metadata": {},
   "outputs": [
    {
     "name": "stdout",
     "output_type": "stream",
     "text": [
      "True\n",
      "True\n",
      "False\n",
      "True\n"
     ]
    }
   ],
   "source": [
    "#True if the string is empty or all characters in the string are ASCII\n",
    "print(string1.isascii())\n",
    "print(string2.isascii())\n",
    "print(string3.isascii())\n",
    "print(string4.isascii())"
   ]
  },
  {
   "cell_type": "markdown",
   "id": "3f1efa72",
   "metadata": {},
   "source": [
    "&#10148;isdecimal"
   ]
  },
  {
   "cell_type": "code",
   "execution_count": 28,
   "id": "4edc3c62",
   "metadata": {},
   "outputs": [],
   "source": [
    "string1='iamsanjeet'\n",
    "string2='1'\n",
    "string3='-1'\n",
    "string4='8.9'\n",
    "string5=\"\\u0047\" #unicode for G\n",
    "string6=\"\\u0030\" #unicode for 0\n",
    "string7=\"\\u00B2\"#unicode for ^\n",
    "string8=\"\\u2153\"#unicode for 1/2"
   ]
  },
  {
   "cell_type": "code",
   "execution_count": 29,
   "id": "1f6e8b15",
   "metadata": {},
   "outputs": [
    {
     "name": "stdout",
     "output_type": "stream",
     "text": [
      "False\n",
      "True\n",
      "False\n",
      "False\n",
      "False\n",
      "True\n",
      "False\n",
      "False\n"
     ]
    }
   ],
   "source": [
    "#True if all characters in the string are decimals\n",
    "print(string1.isdecimal())\n",
    "print(string2.isdecimal())\n",
    "print(string3.isdecimal())\n",
    "print(string4.isdecimal())\n",
    "print(string5.isdecimal())\n",
    "print(string6.isdecimal())\n",
    "print(string7.isdecimal())\n",
    "print(string8.isdecimal())"
   ]
  },
  {
   "cell_type": "markdown",
   "id": "073352b8",
   "metadata": {},
   "source": [
    "&#10148;isdigit"
   ]
  },
  {
   "cell_type": "code",
   "execution_count": 30,
   "id": "5fb2b515",
   "metadata": {},
   "outputs": [],
   "source": [
    "string1='iamsanjeet'\n",
    "string2='1'\n",
    "string3='-1'\n",
    "string4='8.9'\n",
    "string5=\"\\u0047\" #unicode for G\n",
    "string6=\"\\u0030\" #unicode for 0\n",
    "string7= \"\\u00B2\"#unicode for ^\n",
    "string8=\"\\u2153\"#unicode for 1/2"
   ]
  },
  {
   "cell_type": "code",
   "execution_count": 31,
   "id": "e1e4771d",
   "metadata": {},
   "outputs": [
    {
     "name": "stdout",
     "output_type": "stream",
     "text": [
      "False\n",
      "True\n",
      "False\n",
      "False\n",
      "False\n",
      "True\n",
      "True\n",
      "False\n"
     ]
    }
   ],
   "source": [
    "#True if all characters in the string are digits\n",
    "print(string1.isdigit())\n",
    "print(string2.isdigit())\n",
    "print(string3.isdigit())\n",
    "print(string4.isdigit())\n",
    "print(string5.isdigit())\n",
    "print(string6.isdigit())\n",
    "print(string7.isdigit())\n",
    "print(string8.isdigit())"
   ]
  },
  {
   "cell_type": "markdown",
   "id": "20c061b3",
   "metadata": {},
   "source": [
    "&#10148;isidentifier"
   ]
  },
  {
   "cell_type": "code",
   "execution_count": 32,
   "id": "bc111d07",
   "metadata": {},
   "outputs": [],
   "source": [
    "string1='iamsanjeet'\n",
    "string2='7sanjeet'\n",
    "string3='sanjeet_kumar'\n",
    "string4='sanjeet$kumar'\n",
    "string5='sanjeet kumar'\n",
    "string6='_sanjeet'\n",
    "string7='_'\n",
    "string8='$'\n",
    "string9=''"
   ]
  },
  {
   "cell_type": "code",
   "execution_count": 33,
   "id": "e194b2cb",
   "metadata": {},
   "outputs": [
    {
     "name": "stdout",
     "output_type": "stream",
     "text": [
      "True\n",
      "False\n",
      "True\n",
      "False\n",
      "False\n",
      "True\n",
      "True\n",
      "False\n",
      "False\n"
     ]
    }
   ],
   "source": [
    "#True if the string is an identifier\n",
    "print(string1.isidentifier())\n",
    "print(string2.isidentifier())\n",
    "print(string3.isidentifier())\n",
    "print(string4.isidentifier())\n",
    "print(string5.isidentifier())\n",
    "print(string6.isidentifier())\n",
    "print(string7.isidentifier())\n",
    "print(string8.isidentifier())\n",
    "print(string9.isidentifier())"
   ]
  },
  {
   "cell_type": "markdown",
   "id": "dda6d00f",
   "metadata": {},
   "source": [
    "&#10148;islower"
   ]
  },
  {
   "cell_type": "code",
   "execution_count": 34,
   "id": "e57c7817",
   "metadata": {},
   "outputs": [],
   "source": [
    "string1='iamsanjeet'\n",
    "string2='IamSanjeet'\n",
    "string3='SANJEET'"
   ]
  },
  {
   "cell_type": "code",
   "execution_count": 35,
   "id": "635f4cbb",
   "metadata": {},
   "outputs": [
    {
     "name": "stdout",
     "output_type": "stream",
     "text": [
      "True\n",
      "False\n",
      "False\n"
     ]
    }
   ],
   "source": [
    "#True if all characters in the string are lower case\n",
    "print(string1.islower())\n",
    "print(string2.islower())\n",
    "print(string3.islower())"
   ]
  },
  {
   "cell_type": "markdown",
   "id": "6f1eacaf",
   "metadata": {},
   "source": [
    "&#10148;isnumeric"
   ]
  },
  {
   "cell_type": "code",
   "execution_count": 36,
   "id": "283f3733",
   "metadata": {},
   "outputs": [],
   "source": [
    "string1='iamsanjeet'\n",
    "string2='1'\n",
    "string3='-1'\n",
    "string4='8.9'\n",
    "string5=\"\\u0047\" #unicode for G\n",
    "string6=\"\\u0030\" #unicode for 0\n",
    "string7= \"\\u00B2\"#unicode for ^\n",
    "string8=\"\\u2153\"#unicode for 1/2"
   ]
  },
  {
   "cell_type": "code",
   "execution_count": 37,
   "id": "daeab738",
   "metadata": {},
   "outputs": [
    {
     "name": "stdout",
     "output_type": "stream",
     "text": [
      "False\n",
      "True\n",
      "False\n",
      "False\n",
      "False\n",
      "True\n",
      "True\n",
      "True\n"
     ]
    }
   ],
   "source": [
    "#True if all characters in the string are numeric\n",
    "print(string1.isnumeric())\n",
    "print(string2.isnumeric())\n",
    "print(string3.isnumeric())\n",
    "print(string4.isnumeric())\n",
    "print(string5.isnumeric())\n",
    "print(string6.isnumeric())\n",
    "print(string7.isnumeric())\n",
    "print(string8.isnumeric())"
   ]
  },
  {
   "cell_type": "markdown",
   "id": "fc5ae45b",
   "metadata": {},
   "source": [
    "**isdecimal vs isdigit vs isnumeric**</br>\n",
    "*isdecimal() method supports only Decimal Numbers.*</br>\n",
    "*isdigit() method supports Decimals, Subscripts, Superscripts.*</br>\n",
    "*isnumeric() method supports Digits, Vulgar Fractions, Subscripts, Superscripts, Roman Numerals, Currency Numerators.*\n"
   ]
  },
  {
   "cell_type": "markdown",
   "id": "b4d73bd4",
   "metadata": {},
   "source": [
    "&#10148;isprintable"
   ]
  },
  {
   "cell_type": "code",
   "execution_count": 38,
   "id": "51a8d2a1",
   "metadata": {},
   "outputs": [],
   "source": [
    "string1='iamsanjeet'\n",
    "string2='i\\tam\\tsanjeet'\n",
    "string3='iamsånjeetø'"
   ]
  },
  {
   "cell_type": "code",
   "execution_count": 39,
   "id": "73095380",
   "metadata": {},
   "outputs": [
    {
     "name": "stdout",
     "output_type": "stream",
     "text": [
      "True\n",
      "False\n",
      "True\n"
     ]
    }
   ],
   "source": [
    "#True if all the characters are printable,otherwise False\n",
    "print(string1.isprintable())\n",
    "print(string2.isprintable())\n",
    "print(string3.isprintable())"
   ]
  },
  {
   "cell_type": "markdown",
   "id": "417844fe",
   "metadata": {},
   "source": [
    "&#10148;isspace"
   ]
  },
  {
   "cell_type": "code",
   "execution_count": 40,
   "id": "18211b66",
   "metadata": {},
   "outputs": [],
   "source": [
    "string1='iamsanjeet'\n",
    "string2=\"   s   \"\n",
    "string3=\" \""
   ]
  },
  {
   "cell_type": "code",
   "execution_count": 41,
   "id": "db824b2b",
   "metadata": {},
   "outputs": [
    {
     "name": "stdout",
     "output_type": "stream",
     "text": [
      "False\n",
      "False\n",
      "True\n"
     ]
    }
   ],
   "source": [
    "#True if all the characters in the text are whitespaces\n",
    "print(string1.isspace())\n",
    "print(string2.isspace())\n",
    "print(string3.isspace())"
   ]
  },
  {
   "cell_type": "markdown",
   "id": "5d97b05d",
   "metadata": {},
   "source": [
    "&#10148;istitle"
   ]
  },
  {
   "cell_type": "code",
   "execution_count": 42,
   "id": "3d17bd8e",
   "metadata": {},
   "outputs": [],
   "source": [
    "string1='iamsanjeet'\n",
    "string2='Iamsanjeet'"
   ]
  },
  {
   "cell_type": "code",
   "execution_count": 43,
   "id": "03b2d749",
   "metadata": {},
   "outputs": [
    {
     "name": "stdout",
     "output_type": "stream",
     "text": [
      "False\n",
      "True\n"
     ]
    }
   ],
   "source": [
    "#True if the string follows the rules of a title\n",
    "print(string1.istitle())\n",
    "print(string2.istitle())"
   ]
  },
  {
   "cell_type": "markdown",
   "id": "86989b71",
   "metadata": {},
   "source": [
    "&#10148;isupper"
   ]
  },
  {
   "cell_type": "code",
   "execution_count": 44,
   "id": "e18fbf36",
   "metadata": {},
   "outputs": [],
   "source": [
    "string1='iamsanjeet'\n",
    "string2='Iamsanjeet'\n",
    "string3='SANJEET'"
   ]
  },
  {
   "cell_type": "code",
   "execution_count": 45,
   "id": "5b00862b",
   "metadata": {},
   "outputs": [
    {
     "name": "stdout",
     "output_type": "stream",
     "text": [
      "False\n",
      "False\n",
      "True\n"
     ]
    }
   ],
   "source": [
    "#Returns True if all characters in the string are upper case\n",
    "print(string1.isupper())\n",
    "print(string2.isupper())\n",
    "print(string3.isupper())"
   ]
  },
  {
   "cell_type": "markdown",
   "id": "8c2076e7",
   "metadata": {},
   "source": [
    "&#10148;join"
   ]
  },
  {
   "cell_type": "code",
   "execution_count": 46,
   "id": "d8a1b126",
   "metadata": {},
   "outputs": [
    {
     "name": "stdout",
     "output_type": "stream",
     "text": [
      "Sanjeet#Kumar#Singh\n"
     ]
    }
   ],
   "source": [
    "#Joins the elements\n",
    "myName = (\"Sanjeet\", \"Kumar\", \"Singh\")\n",
    "x = \"#\".join(myName)\n",
    "print(x)"
   ]
  },
  {
   "cell_type": "markdown",
   "id": "1921fe27",
   "metadata": {},
   "source": [
    "&#10148;ljust"
   ]
  },
  {
   "cell_type": "code",
   "execution_count": 47,
   "id": "57cefaf7",
   "metadata": {},
   "outputs": [],
   "source": [
    "string1='iamsanjeet'"
   ]
  },
  {
   "cell_type": "code",
   "execution_count": 48,
   "id": "4476da48",
   "metadata": {},
   "outputs": [
    {
     "name": "stdout",
     "output_type": "stream",
     "text": [
      "iamsanjeetkkkkkkkkkk\n",
      "iamsanjeet           kumar\n"
     ]
    }
   ],
   "source": [
    "#left align\n",
    "print(string1.ljust(20, \"k\"))\n",
    "print(string1.ljust(20),\"kumar\")"
   ]
  },
  {
   "cell_type": "markdown",
   "id": "702b881c",
   "metadata": {},
   "source": [
    "&#10148;lower"
   ]
  },
  {
   "cell_type": "code",
   "execution_count": 49,
   "id": "e54bbc91",
   "metadata": {},
   "outputs": [],
   "source": [
    "string1='sanjeet'\n",
    "string2='Sanjeet'\n",
    "string3=\"SANJEET\""
   ]
  },
  {
   "cell_type": "code",
   "execution_count": 50,
   "id": "e971d72d",
   "metadata": {},
   "outputs": [
    {
     "name": "stdout",
     "output_type": "stream",
     "text": [
      "sanjeet\n",
      "sanjeet\n",
      "sanjeet\n"
     ]
    }
   ],
   "source": [
    "#lower case\n",
    "print(string1.lower())\n",
    "print(string2.lower())\n",
    "print(string3.lower())"
   ]
  },
  {
   "cell_type": "markdown",
   "id": "45406f76",
   "metadata": {},
   "source": [
    "&#10148;lstrip"
   ]
  },
  {
   "cell_type": "code",
   "execution_count": 51,
   "id": "15c4bd96",
   "metadata": {},
   "outputs": [],
   "source": [
    "string1=\"       sanjeet        \""
   ]
  },
  {
   "cell_type": "code",
   "execution_count": 52,
   "id": "064e88c8",
   "metadata": {},
   "outputs": [
    {
     "name": "stdout",
     "output_type": "stream",
     "text": [
      "iam sanjeet kumar\n",
      "iam sanjeet         kumar\n",
      "iam        sanjeet kumar\n"
     ]
    }
   ],
   "source": [
    "print('iam',string1.strip(),\"kumar\")\n",
    "print('iam',string1.lstrip(),\"kumar\")\n",
    "print('iam',string1.rstrip(),\"kumar\") "
   ]
  },
  {
   "cell_type": "markdown",
   "id": "0f8980f4",
   "metadata": {},
   "source": [
    "&#10148;maketrans "
   ]
  },
  {
   "cell_type": "code",
   "execution_count": 53,
   "id": "25ea68cb",
   "metadata": {},
   "outputs": [],
   "source": [
    "#discuss with *translate* Method"
   ]
  },
  {
   "cell_type": "markdown",
   "id": "6e673ca8",
   "metadata": {},
   "source": [
    "&#10148;partition"
   ]
  },
  {
   "cell_type": "code",
   "execution_count": 54,
   "id": "2fcf579f",
   "metadata": {},
   "outputs": [],
   "source": [
    "string1='iamsanjeetkumar'"
   ]
  },
  {
   "cell_type": "code",
   "execution_count": 55,
   "id": "0cab0cc3",
   "metadata": {},
   "outputs": [
    {
     "name": "stdout",
     "output_type": "stream",
     "text": [
      "('i', 'am', 'sanjeetkumar')\n"
     ]
    }
   ],
   "source": [
    "#Help to make partition\n",
    "#return tuple\n",
    "print(string1.partition('am'))"
   ]
  },
  {
   "cell_type": "markdown",
   "id": "e43fdbad",
   "metadata": {},
   "source": [
    "&#10148;removeprefix"
   ]
  },
  {
   "cell_type": "code",
   "execution_count": 56,
   "id": "d108aebc",
   "metadata": {},
   "outputs": [],
   "source": [
    "string1='iamsanjeetkumar'"
   ]
  },
  {
   "cell_type": "code",
   "execution_count": 57,
   "id": "f513a512",
   "metadata": {},
   "outputs": [
    {
     "name": "stdout",
     "output_type": "stream",
     "text": [
      "sanjeetkumar\n",
      "iamsanjeetkumar\n"
     ]
    }
   ],
   "source": [
    "#remove prefix\n",
    "print(string1.removeprefix('iam'))\n",
    "print(string1.removeprefix('am'))"
   ]
  },
  {
   "cell_type": "markdown",
   "id": "753b4923",
   "metadata": {},
   "source": [
    "&#10148;removesuffix"
   ]
  },
  {
   "cell_type": "code",
   "execution_count": 58,
   "id": "7851f243",
   "metadata": {},
   "outputs": [],
   "source": [
    "string1='iamsanjeetkumar'"
   ]
  },
  {
   "cell_type": "code",
   "execution_count": 59,
   "id": "b7e3cb04",
   "metadata": {},
   "outputs": [
    {
     "name": "stdout",
     "output_type": "stream",
     "text": [
      "iamsanjeet\n",
      "iamsanjeetkumar\n"
     ]
    }
   ],
   "source": [
    "#remove suffix\n",
    "print(string1.removesuffix('kumar'))\n",
    "print(string1.removesuffix('sanjeet'))"
   ]
  },
  {
   "cell_type": "markdown",
   "id": "e7c7452f",
   "metadata": {},
   "source": [
    "&#10148;replace"
   ]
  },
  {
   "cell_type": "code",
   "execution_count": 60,
   "id": "1ec6a67b",
   "metadata": {},
   "outputs": [],
   "source": [
    "string1='iamsanjeetkumar'"
   ]
  },
  {
   "cell_type": "code",
   "execution_count": 61,
   "id": "84ed3377",
   "metadata": {},
   "outputs": [
    {
     "name": "stdout",
     "output_type": "stream",
     "text": [
      "iamranjeetkumar\n"
     ]
    }
   ],
   "source": [
    "#replace\n",
    "print(string1.replace('s','r'))"
   ]
  },
  {
   "cell_type": "markdown",
   "id": "75c80be6",
   "metadata": {},
   "source": [
    "&#10148;rfind"
   ]
  },
  {
   "cell_type": "code",
   "execution_count": 62,
   "id": "390c1aa4",
   "metadata": {},
   "outputs": [],
   "source": [
    "string1='iamsanjeetkumar'"
   ]
  },
  {
   "cell_type": "code",
   "execution_count": 63,
   "id": "e594dca1",
   "metadata": {},
   "outputs": [
    {
     "name": "stdout",
     "output_type": "stream",
     "text": [
      "0\n",
      "13\n",
      "8\n",
      "-1\n"
     ]
    }
   ],
   "source": [
    "#returns the last position\n",
    "print(string1.rfind('i'))\n",
    "print(string1.rfind('a'))\n",
    "print(string1.rfind('e'))\n",
    "print(string1.rfind('w')) "
   ]
  },
  {
   "cell_type": "markdown",
   "id": "ab63c335",
   "metadata": {},
   "source": [
    "&#10148;rindex"
   ]
  },
  {
   "cell_type": "code",
   "execution_count": 64,
   "id": "b69d979c",
   "metadata": {},
   "outputs": [],
   "source": [
    "string1='iamsanjeetkumar'"
   ]
  },
  {
   "cell_type": "code",
   "execution_count": 65,
   "id": "e6db1978",
   "metadata": {},
   "outputs": [
    {
     "name": "stdout",
     "output_type": "stream",
     "text": [
      "0\n",
      "13\n",
      "8\n"
     ]
    },
    {
     "ename": "ValueError",
     "evalue": "substring not found",
     "output_type": "error",
     "traceback": [
      "\u001b[0;31m---------------------------------------------------------------------------\u001b[0m",
      "\u001b[0;31mValueError\u001b[0m                                Traceback (most recent call last)",
      "Input \u001b[0;32mIn [65]\u001b[0m, in \u001b[0;36m<cell line: 5>\u001b[0;34m()\u001b[0m\n\u001b[1;32m      3\u001b[0m \u001b[38;5;28mprint\u001b[39m(string1\u001b[38;5;241m.\u001b[39mrindex(\u001b[38;5;124m'\u001b[39m\u001b[38;5;124ma\u001b[39m\u001b[38;5;124m'\u001b[39m))\n\u001b[1;32m      4\u001b[0m \u001b[38;5;28mprint\u001b[39m(string1\u001b[38;5;241m.\u001b[39mrindex(\u001b[38;5;124m'\u001b[39m\u001b[38;5;124me\u001b[39m\u001b[38;5;124m'\u001b[39m))\n\u001b[0;32m----> 5\u001b[0m \u001b[38;5;28mprint\u001b[39m(\u001b[43mstring1\u001b[49m\u001b[38;5;241;43m.\u001b[39;49m\u001b[43mrindex\u001b[49m\u001b[43m(\u001b[49m\u001b[38;5;124;43m'\u001b[39;49m\u001b[38;5;124;43mw\u001b[39;49m\u001b[38;5;124;43m'\u001b[39;49m\u001b[43m)\u001b[49m)\n",
      "\u001b[0;31mValueError\u001b[0m: substring not found"
     ]
    }
   ],
   "source": [
    "#returns the last position\n",
    "print(string1.rindex('i'))\n",
    "print(string1.rindex('a'))\n",
    "print(string1.rindex('e'))\n",
    "print(string1.rindex('w')) "
   ]
  },
  {
   "cell_type": "markdown",
   "id": "78d3c914",
   "metadata": {},
   "source": [
    "&#10148;rjust"
   ]
  },
  {
   "cell_type": "code",
   "execution_count": 66,
   "id": "4caea0ad",
   "metadata": {},
   "outputs": [],
   "source": [
    "string1='iamsanjeet'"
   ]
  },
  {
   "cell_type": "code",
   "execution_count": 67,
   "id": "5a34f4fc",
   "metadata": {},
   "outputs": [
    {
     "name": "stdout",
     "output_type": "stream",
     "text": [
      "kkkkkkkkkkiamsanjeet\n",
      "          iamsanjeet kumar\n",
      "kumar           iamsanjeet\n"
     ]
    }
   ],
   "source": [
    "#left align\n",
    "print(string1.rjust(20, \"k\"))\n",
    "print(string1.rjust(20),\"kumar\") \n",
    "print(\"kumar\",string1.rjust(20)) "
   ]
  },
  {
   "cell_type": "markdown",
   "id": "c004c826",
   "metadata": {},
   "source": [
    "&#10148;rpartition"
   ]
  },
  {
   "cell_type": "code",
   "execution_count": 68,
   "id": "1d7e607e",
   "metadata": {},
   "outputs": [],
   "source": [
    "string1='iamsanjeetkumar'"
   ]
  },
  {
   "cell_type": "code",
   "execution_count": 69,
   "id": "1ca14dbb",
   "metadata": {},
   "outputs": [
    {
     "name": "stdout",
     "output_type": "stream",
     "text": [
      "('iamsanjeetkum', 'a', 'r')\n",
      "('i', 'a', 'msanjeetkumar')\n"
     ]
    }
   ],
   "source": [
    "print(string1.rpartition('a'))\n",
    "print(string1.partition('a')) "
   ]
  },
  {
   "cell_type": "markdown",
   "id": "1800db1b",
   "metadata": {},
   "source": [
    "*The partition() method splits the string from the first occurrence of the separator*</br> *The rpartition() separates the string from the last occurrence of the separator*"
   ]
  },
  {
   "cell_type": "markdown",
   "id": "61b44ac6",
   "metadata": {},
   "source": [
    "&#10148;rsplit"
   ]
  },
  {
   "cell_type": "code",
   "execution_count": 70,
   "id": "9546eeba",
   "metadata": {},
   "outputs": [],
   "source": [
    "string1='i_am_Sanjeet'"
   ]
  },
  {
   "cell_type": "code",
   "execution_count": 71,
   "id": "3f454aab",
   "metadata": {},
   "outputs": [
    {
     "name": "stdout",
     "output_type": "stream",
     "text": [
      "['i', 'am_Sanjeet']\n",
      "['i_am', 'Sanjeet']\n"
     ]
    }
   ],
   "source": [
    "print(string1.split('_',1))\n",
    "print(string1.rsplit('_',1)) "
   ]
  },
  {
   "cell_type": "markdown",
   "id": "4a53f757",
   "metadata": {},
   "source": [
    "&#10148;rstrip"
   ]
  },
  {
   "cell_type": "code",
   "execution_count": 72,
   "id": "cfe3cb65",
   "metadata": {},
   "outputs": [],
   "source": [
    "string1=\"       sanjeet        \""
   ]
  },
  {
   "cell_type": "code",
   "execution_count": 73,
   "id": "5aca99b7",
   "metadata": {},
   "outputs": [
    {
     "name": "stdout",
     "output_type": "stream",
     "text": [
      "iam sanjeet kumar\n",
      "iam sanjeet         kumar\n",
      "iam        sanjeet kumar\n"
     ]
    }
   ],
   "source": [
    "print('iam',string1.strip(),\"kumar\")\n",
    "print('iam',string1.lstrip(),\"kumar\")\n",
    "print('iam',string1.rstrip(),\"kumar\") "
   ]
  },
  {
   "cell_type": "markdown",
   "id": "4ef77697",
   "metadata": {},
   "source": [
    "&#10148;split"
   ]
  },
  {
   "cell_type": "code",
   "execution_count": 74,
   "id": "dcd3e9d0",
   "metadata": {},
   "outputs": [],
   "source": [
    "string1='iamsanjeet'\n",
    "string2='i\\tam\\tsanjeet'\n",
    "string3='i\\nam\\nsanjeet'\n",
    "string4='iam_sanjeet'"
   ]
  },
  {
   "cell_type": "code",
   "execution_count": 75,
   "id": "5dc8d5c5",
   "metadata": {},
   "outputs": [
    {
     "name": "stdout",
     "output_type": "stream",
     "text": [
      "['iamsanjeet']\n",
      "['i', 'am', 'sanjeet']\n",
      "['i', 'am', 'sanjeet']\n",
      "['iam', 'sanjeet']\n"
     ]
    }
   ],
   "source": [
    "#splitting done at specify the separator or default separator\n",
    "#return list\n",
    "print(string1.split())\n",
    "print(string2.split())\n",
    "print(string3.split())\n",
    "print(string4.split('_')) "
   ]
  },
  {
   "cell_type": "markdown",
   "id": "19dac0d4",
   "metadata": {},
   "source": [
    "&#10148;splitlines"
   ]
  },
  {
   "cell_type": "code",
   "execution_count": 76,
   "id": "423c92ba",
   "metadata": {},
   "outputs": [],
   "source": [
    "string1='iamsanjeet'\n",
    "string2='i\\tam\\tsanjeet'\n",
    "string3='i\\nam\\nsanjeet'"
   ]
  },
  {
   "cell_type": "code",
   "execution_count": 77,
   "id": "ecef68ec",
   "metadata": {},
   "outputs": [
    {
     "name": "stdout",
     "output_type": "stream",
     "text": [
      "['iamsanjeet']\n",
      "i\tam\tsanjeet\n",
      "['i\\tam\\tsanjeet']\n",
      "i\n",
      "am\n",
      "sanjeet\n",
      "['i', 'am', 'sanjeet']\n"
     ]
    }
   ],
   "source": [
    "#splitting is done at line breaks\n",
    "#return list\n",
    "print(string1.splitlines())\n",
    "print(string2)\n",
    "print(string2.splitlines())\n",
    "print(string3)\n",
    "print(string3.splitlines()) "
   ]
  },
  {
   "cell_type": "markdown",
   "id": "da1b376b",
   "metadata": {},
   "source": [
    "&#10148;startswith"
   ]
  },
  {
   "cell_type": "code",
   "execution_count": 78,
   "id": "f9fef42e",
   "metadata": {},
   "outputs": [],
   "source": [
    "string1='iamsanjeet'"
   ]
  },
  {
   "cell_type": "code",
   "execution_count": 79,
   "id": "341879af",
   "metadata": {},
   "outputs": [
    {
     "name": "stdout",
     "output_type": "stream",
     "text": [
      "True\n",
      "False\n"
     ]
    }
   ],
   "source": [
    "#Returns true if the string starts with the specified value\n",
    "print(string1.startswith('i'))\n",
    "print(string1.startswith('s')) "
   ]
  },
  {
   "cell_type": "markdown",
   "id": "73b36235",
   "metadata": {},
   "source": [
    "&#10148;strip"
   ]
  },
  {
   "cell_type": "code",
   "execution_count": 80,
   "id": "355ad40c",
   "metadata": {},
   "outputs": [],
   "source": [
    "string1=\"    s     \""
   ]
  },
  {
   "cell_type": "code",
   "execution_count": 81,
   "id": "98f60166",
   "metadata": {},
   "outputs": [
    {
     "name": "stdout",
     "output_type": "stream",
     "text": [
      "s\n"
     ]
    }
   ],
   "source": [
    "#remove spaces at the beginning and at the end of the string\n",
    "print(string1.strip())"
   ]
  },
  {
   "cell_type": "markdown",
   "id": "3c7d838d",
   "metadata": {},
   "source": [
    "&#10148;swapcase"
   ]
  },
  {
   "cell_type": "code",
   "execution_count": 82,
   "id": "8a34790f",
   "metadata": {},
   "outputs": [],
   "source": [
    "string1='iamsanjeet'\n",
    "string2='IamSanjeet'"
   ]
  },
  {
   "cell_type": "code",
   "execution_count": 83,
   "id": "435be951",
   "metadata": {},
   "outputs": [
    {
     "name": "stdout",
     "output_type": "stream",
     "text": [
      "IAMSANJEET\n",
      "iAMsANJEET\n"
     ]
    }
   ],
   "source": [
    "#swaping of case\n",
    "print(string1.swapcase())\n",
    "print(string2.swapcase())"
   ]
  },
  {
   "cell_type": "markdown",
   "id": "6f1809c3",
   "metadata": {},
   "source": [
    "&#10148;title"
   ]
  },
  {
   "cell_type": "code",
   "execution_count": 84,
   "id": "f7465dac",
   "metadata": {},
   "outputs": [],
   "source": [
    "string1='iamsanjeet'\n",
    "string2='IamSanjeet'\n",
    "string3='SANJEET'"
   ]
  },
  {
   "cell_type": "code",
   "execution_count": 85,
   "id": "65c280e0",
   "metadata": {},
   "outputs": [
    {
     "name": "stdout",
     "output_type": "stream",
     "text": [
      "Iamsanjeet\n",
      "Iamsanjeet\n",
      "Sanjeet\n"
     ]
    }
   ],
   "source": [
    "#first character of each word to upper case\n",
    "print(string1.title())\n",
    "print(string2.title())\n",
    "print(string3.title())"
   ]
  },
  {
   "cell_type": "markdown",
   "id": "0cc1eddd",
   "metadata": {},
   "source": [
    "&#10148;translate"
   ]
  },
  {
   "cell_type": "code",
   "execution_count": 86,
   "id": "8cfeaf2a",
   "metadata": {},
   "outputs": [
    {
     "name": "stdout",
     "output_type": "stream",
     "text": [
      "Hi joe!\n"
     ]
    }
   ],
   "source": [
    "#translate\n",
    "string1 = \"Hi Ram!\"\n",
    "x = \"mRa\"\n",
    "y = \"ejo\"\n",
    "newString1 = string1.maketrans(x, y)\n",
    "print(string1.translate(newString1))"
   ]
  },
  {
   "cell_type": "markdown",
   "id": "c93f9b21",
   "metadata": {},
   "source": [
    "&#10148;upper"
   ]
  },
  {
   "cell_type": "code",
   "execution_count": 87,
   "id": "8e8b3026",
   "metadata": {},
   "outputs": [],
   "source": [
    "string1='iamsanjeet'"
   ]
  },
  {
   "cell_type": "code",
   "execution_count": 88,
   "id": "f8d71857",
   "metadata": {},
   "outputs": [
    {
     "name": "stdout",
     "output_type": "stream",
     "text": [
      "IAMSANJEET\n"
     ]
    }
   ],
   "source": [
    "#string into upper case\n",
    "print(string1.upper())"
   ]
  },
  {
   "cell_type": "markdown",
   "id": "92f523dc",
   "metadata": {},
   "source": [
    "&#10148;zfill"
   ]
  },
  {
   "cell_type": "code",
   "execution_count": 89,
   "id": "e54540cf",
   "metadata": {},
   "outputs": [],
   "source": [
    "string1='iamsanjeet'"
   ]
  },
  {
   "cell_type": "code",
   "execution_count": 90,
   "id": "a6ea25ed",
   "metadata": {},
   "outputs": [
    {
     "name": "stdout",
     "output_type": "stream",
     "text": [
      "iamsanjeet\n",
      "0000000000iamsanjeet\n"
     ]
    }
   ],
   "source": [
    "#0 values at the beginning\n",
    "print(string1.zfill(10))\n",
    "print(string1.zfill(20))"
   ]
  },
  {
   "cell_type": "markdown",
   "id": "f7d36ebe",
   "metadata": {},
   "source": [
    "!!Thank You!!"
   ]
  },
  {
   "cell_type": "code",
   "execution_count": null,
   "id": "dc9b84e9",
   "metadata": {},
   "outputs": [],
   "source": []
  }
 ],
 "metadata": {
  "kernelspec": {
   "display_name": "Python 3 (ipykernel)",
   "language": "python",
   "name": "python3"
  },
  "language_info": {
   "codemirror_mode": {
    "name": "ipython",
    "version": 3
   },
   "file_extension": ".py",
   "mimetype": "text/x-python",
   "name": "python",
   "nbconvert_exporter": "python",
   "pygments_lexer": "ipython3",
   "version": "3.9.12"
  },
  "varInspector": {
   "cols": {
    "lenName": 16,
    "lenType": 16,
    "lenVar": 40
   },
   "kernels_config": {
    "python": {
     "delete_cmd_postfix": "",
     "delete_cmd_prefix": "del ",
     "library": "var_list.py",
     "varRefreshCmd": "print(var_dic_list())"
    },
    "r": {
     "delete_cmd_postfix": ") ",
     "delete_cmd_prefix": "rm(",
     "library": "var_list.r",
     "varRefreshCmd": "cat(var_dic_list()) "
    }
   },
   "types_to_exclude": [
    "module",
    "function",
    "builtin_function_or_method",
    "instance",
    "_Feature"
   ],
   "window_display": false
  }
 },
 "nbformat": 4,
 "nbformat_minor": 5
}
