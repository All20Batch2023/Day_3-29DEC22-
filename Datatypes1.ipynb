{
 "cells": [
  {
   "cell_type": "markdown",
   "id": "0f870309",
   "metadata": {},
   "source": [
    "<div class=\"alert alert-info\"><font color=#FF0000>Python  (All 20 Batch 23)</font>\n",
    "<br> <font color=#FF0000>Date - 29th Dec</font>\n",
    "<br> <font color=#FF0000>3rd Day !!</font>\n",
    "</div>"
   ]
  },
  {
   "cell_type": "markdown",
   "id": "43594798",
   "metadata": {},
   "source": [
    "<mark>**Topics :-**</mark>\n",
    "1. Data Types</br>\n",
    "**Variables can store data of different types**"
   ]
  },
  {
   "cell_type": "markdown",
   "id": "6633b3c4",
   "metadata": {},
   "source": [
    "> **Numeric Types** <br>\n",
    ">> int, float, complex"
   ]
  },
  {
   "cell_type": "markdown",
   "id": "82517e04",
   "metadata": {},
   "source": [
    "✅ int data-types</br>\n",
    "```Int, or integer, is a whole number, positive or negative, without decimals, of unlimited length.```"
   ]
  },
  {
   "cell_type": "code",
   "execution_count": 1,
   "id": "d7265508",
   "metadata": {},
   "outputs": [],
   "source": [
    "#type is used to verify data type:"
   ]
  },
  {
   "cell_type": "code",
   "execution_count": 2,
   "id": "57e31e7a",
   "metadata": {},
   "outputs": [
    {
     "name": "stdout",
     "output_type": "stream",
     "text": [
      "7\n",
      "<class 'int'>\n"
     ]
    }
   ],
   "source": [
    "print(7)\n",
    "print(type(7))"
   ]
  },
  {
   "cell_type": "code",
   "execution_count": 3,
   "id": "e4b2fe08",
   "metadata": {},
   "outputs": [
    {
     "name": "stdout",
     "output_type": "stream",
     "text": [
      "7\n",
      "<class 'int'>\n"
     ]
    }
   ],
   "source": [
    "a=7\n",
    "print(a)\n",
    "print(type(a))"
   ]
  },
  {
   "cell_type": "code",
   "execution_count": 4,
   "id": "18f99774",
   "metadata": {},
   "outputs": [
    {
     "name": "stdout",
     "output_type": "stream",
     "text": [
      "<class 'int'>\n"
     ]
    }
   ],
   "source": [
    "print(type(0))"
   ]
  },
  {
   "cell_type": "code",
   "execution_count": 5,
   "id": "1e1a55d1",
   "metadata": {},
   "outputs": [
    {
     "name": "stdout",
     "output_type": "stream",
     "text": [
      "<class 'int'>\n"
     ]
    }
   ],
   "source": [
    "print(type(-1))"
   ]
  },
  {
   "cell_type": "code",
   "execution_count": 6,
   "id": "489e8806",
   "metadata": {},
   "outputs": [
    {
     "name": "stdout",
     "output_type": "stream",
     "text": [
      "758465809475891460981465908616492856\n",
      "<class 'int'>\n"
     ]
    }
   ],
   "source": [
    "s=758465809475891460981465908616492856\n",
    "print(s)\n",
    "print(type(s))"
   ]
  },
  {
   "cell_type": "code",
   "execution_count": 7,
   "id": "1f09434f",
   "metadata": {},
   "outputs": [
    {
     "name": "stdout",
     "output_type": "stream",
     "text": [
      "<class 'int'>\n"
     ]
    }
   ],
   "source": [
    "print(type(-87687326863598542689))"
   ]
  },
  {
   "cell_type": "markdown",
   "id": "1c295767",
   "metadata": {},
   "source": [
    "✅ Float data-types</br>\n",
    "```Float, or \"floating point number\" is a number, positive or negative, containing one or more decimals.```"
   ]
  },
  {
   "cell_type": "code",
   "execution_count": 8,
   "id": "d2886a12",
   "metadata": {},
   "outputs": [
    {
     "name": "stdout",
     "output_type": "stream",
     "text": [
      "0.8\n",
      "<class 'float'>\n"
     ]
    }
   ],
   "source": [
    "print(0.8)\n",
    "print(type(0.8))"
   ]
  },
  {
   "cell_type": "code",
   "execution_count": 9,
   "id": "793ebfb3",
   "metadata": {},
   "outputs": [
    {
     "name": "stdout",
     "output_type": "stream",
     "text": [
      "-0.9\n",
      "<class 'float'>\n"
     ]
    }
   ],
   "source": [
    "a=-0.9\n",
    "print(a)\n",
    "print(type(a))"
   ]
  },
  {
   "cell_type": "code",
   "execution_count": 10,
   "id": "54ac709b",
   "metadata": {},
   "outputs": [
    {
     "name": "stdout",
     "output_type": "stream",
     "text": [
      "<class 'float'>\n"
     ]
    }
   ],
   "source": [
    "print(type(6.7894789625))"
   ]
  },
  {
   "cell_type": "code",
   "execution_count": 11,
   "id": "590f49f6",
   "metadata": {},
   "outputs": [
    {
     "name": "stdout",
     "output_type": "stream",
     "text": [
      "<class 'float'>\n"
     ]
    }
   ],
   "source": [
    "print(type(0.0))"
   ]
  },
  {
   "cell_type": "code",
   "execution_count": 12,
   "id": "cebb9d5e",
   "metadata": {},
   "outputs": [
    {
     "name": "stdout",
     "output_type": "stream",
     "text": [
      "<class 'float'>\n"
     ]
    }
   ],
   "source": [
    "print(type(9.0))"
   ]
  },
  {
   "cell_type": "code",
   "execution_count": 13,
   "id": "7b34467c",
   "metadata": {},
   "outputs": [
    {
     "name": "stdout",
     "output_type": "stream",
     "text": [
      "350.0\n"
     ]
    }
   ],
   "source": [
    "print(35e1) #35*10^1"
   ]
  },
  {
   "cell_type": "code",
   "execution_count": 14,
   "id": "660212e3",
   "metadata": {},
   "outputs": [
    {
     "name": "stdout",
     "output_type": "stream",
     "text": [
      "3500000000000000.0\n"
     ]
    }
   ],
   "source": [
    "print(35e14)"
   ]
  },
  {
   "cell_type": "code",
   "execution_count": 15,
   "id": "de205749",
   "metadata": {},
   "outputs": [
    {
     "name": "stdout",
     "output_type": "stream",
     "text": [
      "3.5e+16\n"
     ]
    }
   ],
   "source": [
    "print(35e15)"
   ]
  },
  {
   "cell_type": "code",
   "execution_count": 16,
   "id": "65b26ca8",
   "metadata": {},
   "outputs": [
    {
     "name": "stdout",
     "output_type": "stream",
     "text": [
      "3.5e+17\n"
     ]
    }
   ],
   "source": [
    "print(35e16)"
   ]
  },
  {
   "cell_type": "code",
   "execution_count": 17,
   "id": "77056d9b",
   "metadata": {},
   "outputs": [
    {
     "name": "stdout",
     "output_type": "stream",
     "text": [
      "1e+16\n"
     ]
    }
   ],
   "source": [
    "print(1e16)"
   ]
  },
  {
   "cell_type": "code",
   "execution_count": 18,
   "id": "d824002a",
   "metadata": {},
   "outputs": [
    {
     "name": "stdout",
     "output_type": "stream",
     "text": [
      "<class 'float'>\n"
     ]
    }
   ],
   "source": [
    "print(type(35e1))"
   ]
  },
  {
   "cell_type": "code",
   "execution_count": 19,
   "id": "8e9624f7",
   "metadata": {},
   "outputs": [
    {
     "name": "stdout",
     "output_type": "stream",
     "text": [
      "1e+32\n",
      "<class 'float'>\n"
     ]
    }
   ],
   "source": [
    "print(1e32)\n",
    "print(type(1e32)) "
   ]
  },
  {
   "cell_type": "code",
   "execution_count": 20,
   "id": "73354fae",
   "metadata": {},
   "outputs": [
    {
     "name": "stdout",
     "output_type": "stream",
     "text": [
      "<class 'float'>\n"
     ]
    }
   ],
   "source": [
    "print(type(35e16)) #35*10^16"
   ]
  },
  {
   "cell_type": "code",
   "execution_count": 21,
   "id": "cd50a217",
   "metadata": {},
   "outputs": [
    {
     "name": "stdout",
     "output_type": "stream",
     "text": [
      "4.5e+57\n",
      "<class 'float'>\n"
     ]
    }
   ],
   "source": [
    "a=45e56\n",
    "print(a)\n",
    "print(type(a))"
   ]
  },
  {
   "cell_type": "code",
   "execution_count": 22,
   "id": "0bc6c55c",
   "metadata": {},
   "outputs": [
    {
     "ename": "SyntaxError",
     "evalue": "invalid syntax (3749646688.py, line 1)",
     "output_type": "error",
     "traceback": [
      "\u001b[0;36m  Input \u001b[0;32mIn [22]\u001b[0;36m\u001b[0m\n\u001b[0;31m    b=45e5.6\u001b[0m\n\u001b[0m          ^\u001b[0m\n\u001b[0;31mSyntaxError\u001b[0m\u001b[0;31m:\u001b[0m invalid syntax\n"
     ]
    }
   ],
   "source": [
    "b=45e5.6\n",
    "print(b)\n",
    "print(type(b))"
   ]
  },
  {
   "cell_type": "code",
   "execution_count": 23,
   "id": "887cbd2b",
   "metadata": {},
   "outputs": [
    {
     "name": "stdout",
     "output_type": "stream",
     "text": [
      "1e+308\n"
     ]
    }
   ],
   "source": [
    "print(1e308) #1*10^308"
   ]
  },
  {
   "cell_type": "code",
   "execution_count": 24,
   "id": "b2f01829",
   "metadata": {},
   "outputs": [
    {
     "name": "stdout",
     "output_type": "stream",
     "text": [
      "inf\n"
     ]
    }
   ],
   "source": [
    "print(1e309) #1*10^309"
   ]
  },
  {
   "cell_type": "code",
   "execution_count": 25,
   "id": "ead2c9bd",
   "metadata": {},
   "outputs": [
    {
     "name": "stdout",
     "output_type": "stream",
     "text": [
      "<class 'float'>\n"
     ]
    }
   ],
   "source": [
    "print(type(1e308)) "
   ]
  },
  {
   "cell_type": "code",
   "execution_count": 26,
   "id": "1613ea59",
   "metadata": {},
   "outputs": [
    {
     "name": "stdout",
     "output_type": "stream",
     "text": [
      "<class 'float'>\n"
     ]
    }
   ],
   "source": [
    "print(type(1e309))"
   ]
  },
  {
   "cell_type": "markdown",
   "id": "9eec2258",
   "metadata": {},
   "source": [
    "✅ conversion concept :"
   ]
  },
  {
   "cell_type": "code",
   "execution_count": 27,
   "id": "0488d91c",
   "metadata": {},
   "outputs": [
    {
     "name": "stdout",
     "output_type": "stream",
     "text": [
      "9\n",
      "<class 'int'>\n"
     ]
    }
   ],
   "source": [
    "a1=9\n",
    "print(a1)\n",
    "print(type(a1))"
   ]
  },
  {
   "cell_type": "code",
   "execution_count": 28,
   "id": "eed8dc40",
   "metadata": {},
   "outputs": [
    {
     "name": "stdout",
     "output_type": "stream",
     "text": [
      "9.0\n",
      "<class 'float'>\n"
     ]
    }
   ],
   "source": [
    "a2=9.0\n",
    "print(a2)\n",
    "print(type(a2))"
   ]
  },
  {
   "cell_type": "code",
   "execution_count": 29,
   "id": "bacd303b",
   "metadata": {},
   "outputs": [
    {
     "name": "stdout",
     "output_type": "stream",
     "text": [
      "9.0\n",
      "<class 'float'>\n"
     ]
    }
   ],
   "source": [
    "a3=9*1.0  #int*float = float\n",
    "print(a3)\n",
    "print(type(a3))"
   ]
  },
  {
   "cell_type": "code",
   "execution_count": 30,
   "id": "0cbea9df",
   "metadata": {},
   "outputs": [
    {
     "name": "stdout",
     "output_type": "stream",
     "text": [
      "9.0\n",
      "<class 'float'>\n"
     ]
    }
   ],
   "source": [
    "a4=float(9) #float(int) = float\n",
    "print(a4)\n",
    "print(type(a4))"
   ]
  },
  {
   "cell_type": "code",
   "execution_count": 31,
   "id": "1032f68a",
   "metadata": {},
   "outputs": [
    {
     "name": "stdout",
     "output_type": "stream",
     "text": [
      "<class 'float'>\n"
     ]
    }
   ],
   "source": [
    "r=9.8\n",
    "print(type(r))"
   ]
  },
  {
   "cell_type": "code",
   "execution_count": 32,
   "id": "daf62f4a",
   "metadata": {},
   "outputs": [
    {
     "name": "stdout",
     "output_type": "stream",
     "text": [
      "9\n",
      "<class 'int'>\n"
     ]
    }
   ],
   "source": [
    "#Type casting\n",
    "s=int(9.8) #int(float)= int\n",
    "print(s)\n",
    "print(type(s))"
   ]
  },
  {
   "cell_type": "markdown",
   "id": "b13419e2",
   "metadata": {},
   "source": [
    "✅ complex data type"
   ]
  },
  {
   "cell_type": "code",
   "execution_count": 33,
   "id": "2bebb61a",
   "metadata": {},
   "outputs": [
    {
     "ename": "SyntaxError",
     "evalue": "invalid syntax (2064647754.py, line 1)",
     "output_type": "error",
     "traceback": [
      "\u001b[0;36m  Input \u001b[0;32mIn [33]\u001b[0;36m\u001b[0m\n\u001b[0;31m    print(5i) #takes as simple text or as a str data type\u001b[0m\n\u001b[0m           ^\u001b[0m\n\u001b[0;31mSyntaxError\u001b[0m\u001b[0;31m:\u001b[0m invalid syntax\n"
     ]
    }
   ],
   "source": [
    "print(5i) #takes as simple text or as a str data type"
   ]
  },
  {
   "cell_type": "code",
   "execution_count": 34,
   "id": "c9da6670",
   "metadata": {},
   "outputs": [
    {
     "ename": "NameError",
     "evalue": "name 'j' is not defined",
     "output_type": "error",
     "traceback": [
      "\u001b[0;31m---------------------------------------------------------------------------\u001b[0m",
      "\u001b[0;31mNameError\u001b[0m                                 Traceback (most recent call last)",
      "Input \u001b[0;32mIn [34]\u001b[0m, in \u001b[0;36m<cell line: 1>\u001b[0;34m()\u001b[0m\n\u001b[0;32m----> 1\u001b[0m \u001b[38;5;28mprint\u001b[39m(\u001b[43mj\u001b[49m)\n",
      "\u001b[0;31mNameError\u001b[0m: name 'j' is not defined"
     ]
    }
   ],
   "source": [
    "print(j) #takes as a text or str data type"
   ]
  },
  {
   "cell_type": "code",
   "execution_count": 35,
   "id": "bf0dcaf8",
   "metadata": {},
   "outputs": [],
   "source": [
    "#syntax of complex = a+bj"
   ]
  },
  {
   "cell_type": "code",
   "execution_count": 36,
   "id": "e4265af0",
   "metadata": {},
   "outputs": [
    {
     "ename": "NameError",
     "evalue": "name 'j' is not defined",
     "output_type": "error",
     "traceback": [
      "\u001b[0;31m---------------------------------------------------------------------------\u001b[0m",
      "\u001b[0;31mNameError\u001b[0m                                 Traceback (most recent call last)",
      "Input \u001b[0;32mIn [36]\u001b[0m, in \u001b[0;36m<cell line: 1>\u001b[0;34m()\u001b[0m\n\u001b[0;32m----> 1\u001b[0m \u001b[38;5;28mprint\u001b[39m(\u001b[38;5;28mtype\u001b[39m(\u001b[43mj\u001b[49m))\n",
      "\u001b[0;31mNameError\u001b[0m: name 'j' is not defined"
     ]
    }
   ],
   "source": [
    "print(type(j))"
   ]
  },
  {
   "cell_type": "code",
   "execution_count": 37,
   "id": "101021bf",
   "metadata": {},
   "outputs": [
    {
     "name": "stdout",
     "output_type": "stream",
     "text": [
      "<class 'str'>\n"
     ]
    }
   ],
   "source": [
    "print(type('j')) #str data type  "
   ]
  },
  {
   "cell_type": "code",
   "execution_count": 38,
   "id": "91bd9804",
   "metadata": {},
   "outputs": [
    {
     "name": "stdout",
     "output_type": "stream",
     "text": [
      "1j\n",
      "<class 'complex'>\n"
     ]
    }
   ],
   "source": [
    "print(1j)\n",
    "print(type(1j))"
   ]
  },
  {
   "cell_type": "code",
   "execution_count": 39,
   "id": "fbb664bf",
   "metadata": {},
   "outputs": [
    {
     "name": "stdout",
     "output_type": "stream",
     "text": [
      "4j\n",
      "<class 'complex'>\n"
     ]
    }
   ],
   "source": [
    "w=4j\n",
    "print(w)\n",
    "print(type(w))"
   ]
  },
  {
   "cell_type": "code",
   "execution_count": 40,
   "id": "1272e001",
   "metadata": {},
   "outputs": [
    {
     "name": "stdout",
     "output_type": "stream",
     "text": [
      "<class 'complex'>\n"
     ]
    }
   ],
   "source": [
    "print(type(-1j))"
   ]
  },
  {
   "cell_type": "code",
   "execution_count": 41,
   "id": "eca6cc2b",
   "metadata": {},
   "outputs": [
    {
     "name": "stdout",
     "output_type": "stream",
     "text": [
      "<class 'complex'>\n"
     ]
    }
   ],
   "source": [
    "print(type(0j))"
   ]
  },
  {
   "cell_type": "code",
   "execution_count": 42,
   "id": "6ce2a4a4",
   "metadata": {},
   "outputs": [
    {
     "name": "stdout",
     "output_type": "stream",
     "text": [
      "<class 'int'>\n",
      "<class 'complex'>\n",
      "<class 'complex'>\n"
     ]
    }
   ],
   "source": [
    "print(type(0))\n",
    "print(type(0+6j))\n",
    "print(type(0+0j))"
   ]
  },
  {
   "cell_type": "code",
   "execution_count": 43,
   "id": "2165a5a2",
   "metadata": {},
   "outputs": [
    {
     "name": "stdout",
     "output_type": "stream",
     "text": [
      "<class 'complex'>\n"
     ]
    }
   ],
   "source": [
    "u=3+0j\n",
    "print(type(u))"
   ]
  },
  {
   "cell_type": "code",
   "execution_count": 44,
   "id": "1656873f",
   "metadata": {},
   "outputs": [
    {
     "name": "stdout",
     "output_type": "stream",
     "text": [
      "(3+4j)\n",
      "<class 'complex'>\n",
      "3.0\n",
      "<class 'float'>\n",
      "4.0\n",
      "<class 'float'>\n",
      "3.0 4.0 (3+4j)\n"
     ]
    }
   ],
   "source": [
    "a=3+4j\n",
    "print(a)\n",
    "print(type(a))\n",
    "print(a.real)\n",
    "print(type(a.real))\n",
    "print(a.imag)\n",
    "print(type(a.imag))\n",
    "print(a.real,a.imag,a)"
   ]
  },
  {
   "cell_type": "code",
   "execution_count": 45,
   "id": "46f7967e",
   "metadata": {},
   "outputs": [],
   "source": [
    "#we can't convert complex data type in any other data type."
   ]
  },
  {
   "cell_type": "code",
   "execution_count": 46,
   "id": "302012b3",
   "metadata": {},
   "outputs": [
    {
     "ename": "TypeError",
     "evalue": "can't convert complex to int",
     "output_type": "error",
     "traceback": [
      "\u001b[0;31m---------------------------------------------------------------------------\u001b[0m",
      "\u001b[0;31mTypeError\u001b[0m                                 Traceback (most recent call last)",
      "Input \u001b[0;32mIn [46]\u001b[0m, in \u001b[0;36m<cell line: 1>\u001b[0;34m()\u001b[0m\n\u001b[0;32m----> 1\u001b[0m a\u001b[38;5;241m=\u001b[39m\u001b[38;5;28;43mint\u001b[39;49m\u001b[43m(\u001b[49m\u001b[38;5;241;43m4\u001b[39;49m\u001b[43mj\u001b[49m\u001b[43m)\u001b[49m\n\u001b[1;32m      2\u001b[0m \u001b[38;5;28mprint\u001b[39m(a)\n\u001b[1;32m      3\u001b[0m \u001b[38;5;28mprint\u001b[39m(\u001b[38;5;28mtype\u001b[39m(a))\n",
      "\u001b[0;31mTypeError\u001b[0m: can't convert complex to int"
     ]
    }
   ],
   "source": [
    "a=int(4j)\n",
    "print(a)\n",
    "print(type(a))"
   ]
  },
  {
   "cell_type": "code",
   "execution_count": 47,
   "id": "6dada68d",
   "metadata": {},
   "outputs": [
    {
     "ename": "TypeError",
     "evalue": "can't convert complex to float",
     "output_type": "error",
     "traceback": [
      "\u001b[0;31m---------------------------------------------------------------------------\u001b[0m",
      "\u001b[0;31mTypeError\u001b[0m                                 Traceback (most recent call last)",
      "Input \u001b[0;32mIn [47]\u001b[0m, in \u001b[0;36m<cell line: 1>\u001b[0;34m()\u001b[0m\n\u001b[0;32m----> 1\u001b[0m a\u001b[38;5;241m=\u001b[39m\u001b[38;5;28;43mfloat\u001b[39;49m\u001b[43m(\u001b[49m\u001b[38;5;241;43m9\u001b[39;49m\u001b[43mj\u001b[49m\u001b[43m)\u001b[49m\n\u001b[1;32m      2\u001b[0m \u001b[38;5;28mprint\u001b[39m(a)\n\u001b[1;32m      3\u001b[0m \u001b[38;5;28mprint\u001b[39m(\u001b[38;5;28mtype\u001b[39m(a))\n",
      "\u001b[0;31mTypeError\u001b[0m: can't convert complex to float"
     ]
    }
   ],
   "source": [
    "a=float(9j)\n",
    "print(a)\n",
    "print(type(a))"
   ]
  },
  {
   "cell_type": "code",
   "execution_count": 48,
   "id": "a3d70aa3",
   "metadata": {},
   "outputs": [
    {
     "name": "stdout",
     "output_type": "stream",
     "text": [
      "(5+0j)\n",
      "<class 'complex'>\n"
     ]
    }
   ],
   "source": [
    "#we can convert int and float into complex data type : \n",
    "p=complex(5) \n",
    "print(p)\n",
    "print(type(p))"
   ]
  },
  {
   "cell_type": "markdown",
   "id": "626f4c6f",
   "metadata": {},
   "source": [
    "!! Thank you !!"
   ]
  },
  {
   "cell_type": "code",
   "execution_count": null,
   "id": "205051a3",
   "metadata": {},
   "outputs": [],
   "source": []
  }
 ],
 "metadata": {
  "kernelspec": {
   "display_name": "Python 3 (ipykernel)",
   "language": "python",
   "name": "python3"
  },
  "language_info": {
   "codemirror_mode": {
    "name": "ipython",
    "version": 3
   },
   "file_extension": ".py",
   "mimetype": "text/x-python",
   "name": "python",
   "nbconvert_exporter": "python",
   "pygments_lexer": "ipython3",
   "version": "3.9.12"
  },
  "varInspector": {
   "cols": {
    "lenName": 16,
    "lenType": 16,
    "lenVar": 40
   },
   "kernels_config": {
    "python": {
     "delete_cmd_postfix": "",
     "delete_cmd_prefix": "del ",
     "library": "var_list.py",
     "varRefreshCmd": "print(var_dic_list())"
    },
    "r": {
     "delete_cmd_postfix": ") ",
     "delete_cmd_prefix": "rm(",
     "library": "var_list.r",
     "varRefreshCmd": "cat(var_dic_list()) "
    }
   },
   "types_to_exclude": [
    "module",
    "function",
    "builtin_function_or_method",
    "instance",
    "_Feature"
   ],
   "window_display": false
  }
 },
 "nbformat": 4,
 "nbformat_minor": 5
}
