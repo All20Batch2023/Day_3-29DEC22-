{
 "cells": [
  {
   "cell_type": "markdown",
   "id": "a73199e7",
   "metadata": {},
   "source": [
    "<div class=\"alert alert-info\"><font color=#FF0000>Python  (All 20 Batch 23)</font>\n",
    "<br> <font color=#FF0000>Date - 29th Dec</font>\n",
    "<br> <font color=#FF0000>3rd Day !!</font>\n",
    "</div>"
   ]
  },
  {
   "cell_type": "markdown",
   "id": "d8fe27f4",
   "metadata": {},
   "source": [
    "✅**None Type**"
   ]
  },
  {
   "cell_type": "markdown",
   "id": "a1a6ee37",
   "metadata": {},
   "source": [
    "**The None keyword is used to define a null value, or no value at all.**"
   ]
  },
  {
   "cell_type": "code",
   "execution_count": 1,
   "id": "c6c41730",
   "metadata": {},
   "outputs": [
    {
     "name": "stdout",
     "output_type": "stream",
     "text": [
      "7\n",
      "<class 'NoneType'>\n"
     ]
    }
   ],
   "source": [
    "print(type(print(7)))"
   ]
  },
  {
   "cell_type": "code",
   "execution_count": 2,
   "id": "9a5aee73",
   "metadata": {},
   "outputs": [
    {
     "name": "stdout",
     "output_type": "stream",
     "text": [
      "Hello\n",
      "<class 'NoneType'>\n"
     ]
    }
   ],
   "source": [
    "a=\"Hello\"\n",
    "print(type(print(a)))"
   ]
  },
  {
   "cell_type": "markdown",
   "id": "ae0d727d",
   "metadata": {},
   "source": [
    "*None is not the same as 0, False, or an empty string. None is a data type of its own (NoneType) and only None can be None.*"
   ]
  },
  {
   "cell_type": "code",
   "execution_count": 3,
   "id": "d34967be",
   "metadata": {},
   "outputs": [
    {
     "name": "stdout",
     "output_type": "stream",
     "text": [
      "<class 'int'>\n",
      "<class 'bool'>\n",
      "None\n",
      "<class 'NoneType'>\n"
     ]
    }
   ],
   "source": [
    "# None is not same as 0 .\n",
    "a=0\n",
    "b=False\n",
    "c=None\n",
    "print(type(a))\n",
    "print(type(b))\n",
    "print(c)\n",
    "print(type(c))"
   ]
  },
  {
   "cell_type": "code",
   "execution_count": 4,
   "id": "3c6239d5",
   "metadata": {},
   "outputs": [
    {
     "name": "stdout",
     "output_type": "stream",
     "text": [
      "None is just None...\n"
     ]
    }
   ],
   "source": [
    "# None is not same as False .\n",
    "x = None\n",
    "\n",
    "if x is True:\n",
    "  print(\"None is True?\")\n",
    "elif x is False:\n",
    "  print (\"None is False?\")\n",
    "else:\n",
    "  print(\"None is just None...\")"
   ]
  },
  {
   "cell_type": "markdown",
   "id": "15db4dd5",
   "metadata": {},
   "source": [
    "✅**Boolean Type**"
   ]
  },
  {
   "cell_type": "markdown",
   "id": "d844d97b",
   "metadata": {},
   "source": [
    "*When you compare two values, the expression is evaluated and Python returns the Boolean answer:*"
   ]
  },
  {
   "cell_type": "code",
   "execution_count": 5,
   "id": "08fd6e23",
   "metadata": {},
   "outputs": [
    {
     "name": "stdout",
     "output_type": "stream",
     "text": [
      "True\n",
      "False\n",
      "True\n",
      "True\n"
     ]
    }
   ],
   "source": [
    "print(2==2)\n",
    "print(2>3)\n",
    "print(2<3)\n",
    "x=200\n",
    "print(isinstance(x,int))\n"
   ]
  },
  {
   "cell_type": "code",
   "execution_count": 6,
   "id": "d030357d",
   "metadata": {},
   "outputs": [
    {
     "name": "stdout",
     "output_type": "stream",
     "text": [
      "<class 'bool'>\n"
     ]
    }
   ],
   "source": [
    "print(type(2==2))"
   ]
  },
  {
   "cell_type": "code",
   "execution_count": 7,
   "id": "f703bac0",
   "metadata": {},
   "outputs": [
    {
     "name": "stdout",
     "output_type": "stream",
     "text": [
      "True\n",
      "<class 'bool'>\n"
     ]
    }
   ],
   "source": [
    "a=3\n",
    "b=3\n",
    "print(a==b)\n",
    "print(type(a==b))"
   ]
  },
  {
   "cell_type": "code",
   "execution_count": 8,
   "id": "d9ab2486",
   "metadata": {},
   "outputs": [
    {
     "name": "stdout",
     "output_type": "stream",
     "text": [
      "False\n",
      "True\n",
      "<class 'bool'>\n",
      "False\n"
     ]
    }
   ],
   "source": [
    "#identity operator --> return boolean\n",
    "a1=45\n",
    "a2=54\n",
    "a3=45\n",
    "print(a1 is a2)\n",
    "print(a1 is a3)\n",
    "print(type(a1 is a3))\n",
    "print(a1 is not a3)"
   ]
  },
  {
   "cell_type": "code",
   "execution_count": 9,
   "id": "5f64a9ef",
   "metadata": {},
   "outputs": [
    {
     "name": "stdout",
     "output_type": "stream",
     "text": [
      "True\n",
      "False\n",
      "False\n"
     ]
    }
   ],
   "source": [
    "#membership operator --> return boolean\n",
    "a='hello world'\n",
    "print('world' in a)\n",
    "print('hi' in a)\n",
    "print('hello' not in a)"
   ]
  },
  {
   "cell_type": "code",
   "execution_count": 10,
   "id": "21bffce9",
   "metadata": {},
   "outputs": [
    {
     "name": "stdout",
     "output_type": "stream",
     "text": [
      "1\n",
      "0\n"
     ]
    }
   ],
   "source": [
    "\n",
    "print(int(True))\n",
    "print(int(False))"
   ]
  },
  {
   "cell_type": "code",
   "execution_count": 11,
   "id": "0c9326ee",
   "metadata": {},
   "outputs": [
    {
     "name": "stdout",
     "output_type": "stream",
     "text": [
      "2\n",
      "1\n"
     ]
    }
   ],
   "source": [
    "print(True+True)\n",
    "print(True-False+True-True)"
   ]
  },
  {
   "cell_type": "code",
   "execution_count": 12,
   "id": "30aa8c09",
   "metadata": {},
   "outputs": [
    {
     "name": "stdout",
     "output_type": "stream",
     "text": [
      "True\n",
      "True\n",
      "True\n",
      "True\n",
      "True\n",
      "True\n"
     ]
    }
   ],
   "source": [
    "#Other data type into bool:-\n",
    "print(bool(1))\n",
    "print(bool(4j))\n",
    "print(bool(-1))\n",
    "print(bool(8.9))\n",
    "print(bool(35e1))\n",
    "print(bool('sanjeet'))\n",
    "#non-zero int,float,complex or non empty str retun True while casting."
   ]
  },
  {
   "cell_type": "code",
   "execution_count": 13,
   "id": "24938aaa",
   "metadata": {},
   "outputs": [
    {
     "name": "stdout",
     "output_type": "stream",
     "text": [
      "False\n",
      "False\n",
      "False\n",
      "False\n",
      "False\n",
      "False\n",
      "False\n",
      "False\n"
     ]
    }
   ],
   "source": [
    "#zero,none,empty return false while casting.\n",
    "print(bool(0))\n",
    "print(bool(0.0))\n",
    "print(bool(0j))\n",
    "print(bool(None))\n",
    "print(bool(''))\n",
    "print(bool())\n",
    "print(bool([]))\n",
    "print(bool({}))"
   ]
  },
  {
   "cell_type": "code",
   "execution_count": 14,
   "id": "f3d76c9b",
   "metadata": {},
   "outputs": [
    {
     "name": "stdout",
     "output_type": "stream",
     "text": [
      "2\n"
     ]
    }
   ],
   "source": [
    "# Ternary operator use bool data type  \n",
    "if True:\n",
    "    print(2)\n",
    "else:\n",
    "    print(3)"
   ]
  },
  {
   "cell_type": "code",
   "execution_count": 15,
   "id": "83b7d6c1",
   "metadata": {},
   "outputs": [
    {
     "name": "stdout",
     "output_type": "stream",
     "text": [
      "3\n"
     ]
    }
   ],
   "source": [
    "if False:\n",
    "    print(2)\n",
    "else:\n",
    "    print(3)"
   ]
  },
  {
   "cell_type": "markdown",
   "id": "72b040d7",
   "metadata": {},
   "source": [
    "<mark>Identifier Vs Variable</mark>\n"
   ]
  },
  {
   "cell_type": "markdown",
   "id": "ac76bb75",
   "metadata": {},
   "source": [
    "*Both an identifier and a variable are the names allotted by users to a particular entity in a program.* </br></br>\n",
    "*The identifier is only used to identify an entity uniquely in a program at the time of execution whereas, a variable is a name given to a memory location, that is used to hold a value.*</br></br>\n",
    "<font color=blue>*Variable is only a kind of identifier, other kinds of identifiers are function names, class names, structure names, etc.*</font></br>\n",
    "<font color=#FF0000>*So it can be said that all variables are identifiers whereas, vice versa is not true.*</font>."
   ]
  },
  {
   "cell_type": "code",
   "execution_count": 16,
   "id": "37ad82aa",
   "metadata": {},
   "outputs": [],
   "source": [
    "# Literals\n",
    "#literals --> value of variable\n",
    "#like:-\n",
    "num=22\n",
    "#num is variable\n",
    "#22 is literals"
   ]
  },
  {
   "cell_type": "code",
   "execution_count": 17,
   "id": "829f08c1",
   "metadata": {},
   "outputs": [
    {
     "name": "stdout",
     "output_type": "stream",
     "text": [
      "10 100 200 300\n"
     ]
    }
   ],
   "source": [
    "a = 0b1010 #Binary Literals\n",
    "b = 100 #Decimal Literal \n",
    "c = 0o310 #Octal Literal\n",
    "d = 0x12c #Hexadecimal Literal\n",
    "print(a, b, c, d)"
   ]
  },
  {
   "cell_type": "markdown",
   "id": "a2c46397",
   "metadata": {},
   "source": [
    "!! Thank You !!\n"
   ]
  },
  {
   "cell_type": "code",
   "execution_count": null,
   "id": "10e531b2",
   "metadata": {},
   "outputs": [],
   "source": []
  }
 ],
 "metadata": {
  "kernelspec": {
   "display_name": "Python 3 (ipykernel)",
   "language": "python",
   "name": "python3"
  },
  "language_info": {
   "codemirror_mode": {
    "name": "ipython",
    "version": 3
   },
   "file_extension": ".py",
   "mimetype": "text/x-python",
   "name": "python",
   "nbconvert_exporter": "python",
   "pygments_lexer": "ipython3",
   "version": "3.9.12"
  },
  "varInspector": {
   "cols": {
    "lenName": 16,
    "lenType": 16,
    "lenVar": 40
   },
   "kernels_config": {
    "python": {
     "delete_cmd_postfix": "",
     "delete_cmd_prefix": "del ",
     "library": "var_list.py",
     "varRefreshCmd": "print(var_dic_list())"
    },
    "r": {
     "delete_cmd_postfix": ") ",
     "delete_cmd_prefix": "rm(",
     "library": "var_list.r",
     "varRefreshCmd": "cat(var_dic_list()) "
    }
   },
   "types_to_exclude": [
    "module",
    "function",
    "builtin_function_or_method",
    "instance",
    "_Feature"
   ],
   "window_display": false
  }
 },
 "nbformat": 4,
 "nbformat_minor": 5
}
